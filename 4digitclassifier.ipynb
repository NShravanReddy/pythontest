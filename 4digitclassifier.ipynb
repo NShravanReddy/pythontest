{
 "cells": [
  {
   "cell_type": "code",
   "execution_count": 328,
   "metadata": {},
   "outputs": [
    {
     "name": "stdout",
     "output_type": "stream",
     "text": [
      "2.7.12\n"
     ]
    }
   ],
   "source": [
    "\n",
    "import fastai\n",
    "print(fastai.__version__)"
   ]
  },
  {
   "cell_type": "code",
   "execution_count": 329,
   "metadata": {},
   "outputs": [],
   "source": [
    "from fastai.vision.all import *"
   ]
  },
  {
   "cell_type": "code",
   "execution_count": 330,
   "metadata": {},
   "outputs": [
    {
     "data": {
      "text/plain": [
       "(#3) [Path('/home/codespace/.fastai/data/mnist_sample/labels.csv'),Path('/home/codespace/.fastai/data/mnist_sample/train'),Path('/home/codespace/.fastai/data/mnist_sample/valid')]"
      ]
     },
     "execution_count": 330,
     "metadata": {},
     "output_type": "execute_result"
    }
   ],
   "source": [
    "path=untar_data(URLs.MNIST_SAMPLE)\n",
    "path.ls()"
   ]
  },
  {
   "cell_type": "code",
   "execution_count": 331,
   "metadata": {},
   "outputs": [
    {
     "data": {
      "text/plain": [
       "(#2) [Path('/home/codespace/.fastai/data/mnist_sample/train/3'),Path('/home/codespace/.fastai/data/mnist_sample/train/7')]"
      ]
     },
     "execution_count": 331,
     "metadata": {},
     "output_type": "execute_result"
    }
   ],
   "source": [
    "(path/'/home/codespace/.fastai/data/mnist_sample/train').ls()"
   ]
  },
  {
   "cell_type": "code",
   "execution_count": 332,
   "metadata": {},
   "outputs": [
    {
     "data": {
      "text/plain": [
       "(#6131) [Path('/home/codespace/.fastai/data/mnist_sample/train/3/10.png'),Path('/home/codespace/.fastai/data/mnist_sample/train/3/10000.png'),Path('/home/codespace/.fastai/data/mnist_sample/train/3/10011.png'),Path('/home/codespace/.fastai/data/mnist_sample/train/3/10031.png'),Path('/home/codespace/.fastai/data/mnist_sample/train/3/10034.png'),Path('/home/codespace/.fastai/data/mnist_sample/train/3/10042.png'),Path('/home/codespace/.fastai/data/mnist_sample/train/3/10052.png'),Path('/home/codespace/.fastai/data/mnist_sample/train/3/1007.png'),Path('/home/codespace/.fastai/data/mnist_sample/train/3/10074.png'),Path('/home/codespace/.fastai/data/mnist_sample/train/3/10091.png')...]"
      ]
     },
     "execution_count": 332,
     "metadata": {},
     "output_type": "execute_result"
    }
   ],
   "source": [
    "threes=(path/'/home/codespace/.fastai/data/mnist_sample/train'/'3').ls().sorted()\n",
    "threes"
   ]
  },
  {
   "cell_type": "code",
   "execution_count": 333,
   "metadata": {},
   "outputs": [
    {
     "data": {
      "text/plain": [
       "(#6265) [Path('/home/codespace/.fastai/data/mnist_sample/train/7/10002.png'),Path('/home/codespace/.fastai/data/mnist_sample/train/7/1001.png'),Path('/home/codespace/.fastai/data/mnist_sample/train/7/10014.png'),Path('/home/codespace/.fastai/data/mnist_sample/train/7/10019.png'),Path('/home/codespace/.fastai/data/mnist_sample/train/7/10039.png'),Path('/home/codespace/.fastai/data/mnist_sample/train/7/10046.png'),Path('/home/codespace/.fastai/data/mnist_sample/train/7/10050.png'),Path('/home/codespace/.fastai/data/mnist_sample/train/7/10063.png'),Path('/home/codespace/.fastai/data/mnist_sample/train/7/10077.png'),Path('/home/codespace/.fastai/data/mnist_sample/train/7/10086.png')...]"
      ]
     },
     "execution_count": 333,
     "metadata": {},
     "output_type": "execute_result"
    }
   ],
   "source": [
    "sevens=(path/'/home/codespace/.fastai/data/mnist_sample/train'/'7').ls().sorted()\n",
    "sevens"
   ]
  },
  {
   "cell_type": "code",
   "execution_count": 334,
   "metadata": {},
   "outputs": [
    {
     "data": {
      "image/png": "[encoded data removed]",
      "text/plain": [
       "<PIL.PngImagePlugin.PngImageFile image mode=L size=28x28>"
      ]
     },
     "execution_count": 334,
     "metadata": {},
     "output_type": "execute_result"
    }
   ],
   "source": [
    "img3_path=threes[1]\n",
    "img3=Image.open(img3_path)\n",
    "img3"
   ]
  },
  {
   "cell_type": "code",
   "execution_count": 335,
   "metadata": {},
   "outputs": [
    {
     "data": {
      "text/plain": [
       "array([[  0,   0,   0,   0,   0,   0],\n",
       "       [  0,   0,   0,   0,   0,  29],\n",
       "       [  0,   0,   0,  48, 166, 224],\n",
       "       [  0,  93, 244, 249, 253, 187],\n",
       "       [  0, 107, 253, 253, 230,  48],\n",
       "       [  0,   3,  20,  20,  15,   0]], dtype=uint8)"
      ]
     },
     "execution_count": 335,
     "metadata": {},
     "output_type": "execute_result"
    }
   ],
   "source": [
    "array(img3)[4:10,4:10]"
   ]
  },
  {
   "cell_type": "code",
   "execution_count": 336,
   "metadata": {},
   "outputs": [
    {
     "data": {
      "text/plain": [
       "tensor([[  0,   0,   0,   0,   0,   0],\n",
       "        [  0,   0,   0,   0,   0,  29],\n",
       "        [  0,   0,   0,  48, 166, 224],\n",
       "        [  0,  93, 244, 249, 253, 187],\n",
       "        [  0, 107, 253, 253, 230,  48],\n",
       "        [  0,   3,  20,  20,  15,   0]], dtype=torch.uint8)"
      ]
     },
     "execution_count": 336,
     "metadata": {},
     "output_type": "execute_result"
    }
   ],
   "source": [
    "tensor(img3)[4:10,4:10]"
   ]
  },
  {
   "cell_type": "code",
   "execution_count": 337,
   "metadata": {},
   "outputs": [
    {
     "data": {
      "text/html": [
       "<style type=\"text/css\">\n",
       "#T_5529c_row0_col0, #T_5529c_row0_col1, #T_5529c_row0_col2, #T_5529c_row0_col3, #T_5529c_row0_col4, #T_5529c_row0_col5, #T_5529c_row0_col6, #T_5529c_row0_col7, #T_5529c_row0_col8, #T_5529c_row0_col9, #T_5529c_row0_col10, #T_5529c_row0_col11, #T_5529c_row0_col12, #T_5529c_row0_col13, #T_5529c_row0_col14, #T_5529c_row0_col15, #T_5529c_row0_col16, #T_5529c_row0_col17, #T_5529c_row1_col0, #T_5529c_row1_col1, #T_5529c_row1_col2, #T_5529c_row1_col3, #T_5529c_row1_col4, #T_5529c_row1_col15, #T_5529c_row1_col16, #T_5529c_row1_col17, #T_5529c_row2_col0, #T_5529c_row2_col1, #T_5529c_row2_col2, #T_5529c_row2_col15, #T_5529c_row2_col16, #T_5529c_row2_col17, #T_5529c_row3_col0, #T_5529c_row3_col15, #T_5529c_row3_col16, #T_5529c_row3_col17, #T_5529c_row4_col0, #T_5529c_row4_col6, #T_5529c_row4_col7, #T_5529c_row4_col8, #T_5529c_row4_col9, #T_5529c_row4_col10, #T_5529c_row4_col15, #T_5529c_row4_col16, #T_5529c_row4_col17, #T_5529c_row5_col0, #T_5529c_row5_col5, #T_5529c_row5_col6, #T_5529c_row5_col7, #T_5529c_row5_col8, #T_5529c_row5_col9, #T_5529c_row5_col15, #T_5529c_row5_col16, #T_5529c_row5_col17, #T_5529c_row6_col0, #T_5529c_row6_col1, #T_5529c_row6_col2, #T_5529c_row6_col3, #T_5529c_row6_col4, #T_5529c_row6_col5, #T_5529c_row6_col6, #T_5529c_row6_col7, #T_5529c_row6_col8, #T_5529c_row6_col9, #T_5529c_row6_col14, #T_5529c_row6_col15, #T_5529c_row6_col16, #T_5529c_row6_col17, #T_5529c_row7_col0, #T_5529c_row7_col1, #T_5529c_row7_col2, #T_5529c_row7_col3, #T_5529c_row7_col4, #T_5529c_row7_col5, #T_5529c_row7_col6, #T_5529c_row7_col13, #T_5529c_row7_col14, #T_5529c_row7_col15, #T_5529c_row7_col16, #T_5529c_row7_col17, #T_5529c_row8_col0, #T_5529c_row8_col1, #T_5529c_row8_col2, #T_5529c_row8_col3, #T_5529c_row8_col4, #T_5529c_row8_col13, #T_5529c_row8_col14, #T_5529c_row8_col15, #T_5529c_row8_col16, #T_5529c_row8_col17, #T_5529c_row9_col0, #T_5529c_row9_col1, #T_5529c_row9_col2, #T_5529c_row9_col3, #T_5529c_row9_col4, #T_5529c_row9_col16, #T_5529c_row9_col17, #T_5529c_row10_col0, #T_5529c_row10_col1, #T_5529c_row10_col2, #T_5529c_row10_col3, #T_5529c_row10_col4, #T_5529c_row10_col5, #T_5529c_row10_col6, #T_5529c_row10_col17, #T_5529c_row11_col0, #T_5529c_row11_col1, #T_5529c_row11_col2, #T_5529c_row11_col3, #T_5529c_row11_col4, #T_5529c_row11_col5, #T_5529c_row11_col6, #T_5529c_row11_col7, #T_5529c_row11_col8, #T_5529c_row11_col9, #T_5529c_row11_col17, #T_5529c_row12_col0, #T_5529c_row12_col1, #T_5529c_row12_col2, #T_5529c_row12_col3, #T_5529c_row12_col4, #T_5529c_row12_col5, #T_5529c_row12_col6, #T_5529c_row12_col7, #T_5529c_row12_col8, #T_5529c_row12_col9, #T_5529c_row12_col10, #T_5529c_row12_col11, #T_5529c_row12_col12, #T_5529c_row12_col17, #T_5529c_row13_col0, #T_5529c_row13_col1, #T_5529c_row13_col2, #T_5529c_row13_col3, #T_5529c_row13_col4, #T_5529c_row13_col5, #T_5529c_row13_col6, #T_5529c_row13_col7, #T_5529c_row13_col8, #T_5529c_row13_col9, #T_5529c_row13_col10, #T_5529c_row13_col11, #T_5529c_row13_col12, #T_5529c_row13_col17, #T_5529c_row14_col0, #T_5529c_row14_col1, #T_5529c_row14_col2, #T_5529c_row14_col3, #T_5529c_row14_col4, #T_5529c_row14_col5, #T_5529c_row14_col6, #T_5529c_row14_col7, #T_5529c_row14_col8, #T_5529c_row14_col9, #T_5529c_row14_col10, #T_5529c_row14_col11, #T_5529c_row14_col17, #T_5529c_row15_col0, #T_5529c_row15_col1, #T_5529c_row15_col2, #T_5529c_row15_col3, #T_5529c_row15_col4, #T_5529c_row15_col5, #T_5529c_row15_col6, #T_5529c_row15_col7, #T_5529c_row15_col8, #T_5529c_row15_col9, #T_5529c_row15_col10, #T_5529c_row15_col17, #T_5529c_row16_col0, #T_5529c_row16_col1, #T_5529c_row16_col2, #T_5529c_row16_col3, #T_5529c_row16_col4, #T_5529c_row16_col5, #T_5529c_row16_col6, #T_5529c_row16_col7, #T_5529c_row16_col8, #T_5529c_row16_col9, #T_5529c_row16_col16, #T_5529c_row16_col17, #T_5529c_row17_col0, #T_5529c_row17_col1, #T_5529c_row17_col2, #T_5529c_row17_col3, #T_5529c_row17_col4, #T_5529c_row17_col5, #T_5529c_row17_col6, #T_5529c_row17_col7, #T_5529c_row17_col15, #T_5529c_row17_col16, #T_5529c_row17_col17, #T_5529c_row18_col0, #T_5529c_row18_col1, #T_5529c_row18_col14, #T_5529c_row18_col15, #T_5529c_row18_col16, #T_5529c_row18_col17, #T_5529c_row19_col0, #T_5529c_row19_col1, #T_5529c_row19_col12, #T_5529c_row19_col13, #T_5529c_row19_col14, #T_5529c_row19_col15, #T_5529c_row19_col16, #T_5529c_row19_col17, #T_5529c_row20_col0, #T_5529c_row20_col1, #T_5529c_row20_col10, #T_5529c_row20_col11, #T_5529c_row20_col12, #T_5529c_row20_col13, #T_5529c_row20_col14, #T_5529c_row20_col15, #T_5529c_row20_col16, #T_5529c_row20_col17, #T_5529c_row21_col0, #T_5529c_row21_col1, #T_5529c_row21_col2, #T_5529c_row21_col3, #T_5529c_row21_col4, #T_5529c_row21_col5, #T_5529c_row21_col6, #T_5529c_row21_col7, #T_5529c_row21_col8, #T_5529c_row21_col9, #T_5529c_row21_col10, #T_5529c_row21_col11, #T_5529c_row21_col12, #T_5529c_row21_col13, #T_5529c_row21_col14, #T_5529c_row21_col15, #T_5529c_row21_col16, #T_5529c_row21_col17, #T_5529c_row22_col0, #T_5529c_row22_col1, #T_5529c_row22_col2, #T_5529c_row22_col3, #T_5529c_row22_col4, #T_5529c_row22_col5, #T_5529c_row22_col6, #T_5529c_row22_col7, #T_5529c_row22_col8, #T_5529c_row22_col9, #T_5529c_row22_col10, #T_5529c_row22_col11, #T_5529c_row22_col12, #T_5529c_row22_col13, #T_5529c_row22_col14, #T_5529c_row22_col15, #T_5529c_row22_col16, #T_5529c_row22_col17, #T_5529c_row23_col0, #T_5529c_row23_col1, #T_5529c_row23_col2, #T_5529c_row23_col3, #T_5529c_row23_col4, #T_5529c_row23_col5, #T_5529c_row23_col6, #T_5529c_row23_col7, #T_5529c_row23_col8, #T_5529c_row23_col9, #T_5529c_row23_col10, #T_5529c_row23_col11, #T_5529c_row23_col12, #T_5529c_row23_col13, #T_5529c_row23_col14, #T_5529c_row23_col15, #T_5529c_row23_col16, #T_5529c_row23_col17 {\n",
       "  font-size: 6pt;\n",
       "  background-color: #ffffff;\n",
       "  color: #000000;\n",
       "}\n",
       "#T_5529c_row1_col5, #T_5529c_row8_col12 {\n",
       "  font-size: 6pt;\n",
       "  background-color: #f1f1f1;\n",
       "  color: #000000;\n",
       "}\n",
       "#T_5529c_row1_col6, #T_5529c_row1_col13 {\n",
       "  font-size: 6pt;\n",
       "  background-color: #7c7c7c;\n",
       "  color: #f1f1f1;\n",
       "}\n",
       "#T_5529c_row1_col7 {\n",
       "  font-size: 6pt;\n",
       "  background-color: #4a4a4a;\n",
       "  color: #f1f1f1;\n",
       "}\n",
       "#T_5529c_row1_col8, #T_5529c_row1_col9, #T_5529c_row1_col10, #T_5529c_row2_col6, #T_5529c_row2_col7, #T_5529c_row2_col11, #T_5529c_row2_col12, #T_5529c_row2_col13, #T_5529c_row3_col4, #T_5529c_row3_col12, #T_5529c_row3_col13, #T_5529c_row4_col1, #T_5529c_row4_col2, #T_5529c_row4_col3, #T_5529c_row4_col12, #T_5529c_row4_col13, #T_5529c_row5_col12, #T_5529c_row6_col11, #T_5529c_row9_col11, #T_5529c_row10_col11, #T_5529c_row10_col12, #T_5529c_row10_col13, #T_5529c_row10_col14, #T_5529c_row11_col13, #T_5529c_row11_col14, #T_5529c_row11_col15, #T_5529c_row12_col14, #T_5529c_row12_col15, #T_5529c_row12_col16, #T_5529c_row13_col14, #T_5529c_row13_col15, #T_5529c_row14_col14, #T_5529c_row14_col15, #T_5529c_row15_col13, #T_5529c_row15_col14, #T_5529c_row16_col12, #T_5529c_row16_col13, #T_5529c_row17_col11, #T_5529c_row17_col12, #T_5529c_row19_col3, #T_5529c_row19_col4, #T_5529c_row19_col5, #T_5529c_row19_col6, #T_5529c_row19_col7, #T_5529c_row20_col3, #T_5529c_row20_col4, #T_5529c_row20_col5, #T_5529c_row20_col6, #T_5529c_row20_col7 {\n",
       "  font-size: 6pt;\n",
       "  background-color: #000000;\n",
       "  color: #f1f1f1;\n",
       "}\n",
       "#T_5529c_row1_col11 {\n",
       "  font-size: 6pt;\n",
       "  background-color: #606060;\n",
       "  color: #f1f1f1;\n",
       "}\n",
       "#T_5529c_row1_col12 {\n",
       "  font-size: 6pt;\n",
       "  background-color: #4d4d4d;\n",
       "  color: #f1f1f1;\n",
       "}\n",
       "#T_5529c_row1_col14 {\n",
       "  font-size: 6pt;\n",
       "  background-color: #bbbbbb;\n",
       "  color: #000000;\n",
       "}\n",
       "#T_5529c_row2_col3, #T_5529c_row4_col5 {\n",
       "  font-size: 6pt;\n",
       "  background-color: #e4e4e4;\n",
       "  color: #000000;\n",
       "}\n",
       "#T_5529c_row2_col4, #T_5529c_row8_col6 {\n",
       "  font-size: 6pt;\n",
       "  background-color: #6b6b6b;\n",
       "  color: #f1f1f1;\n",
       "}\n",
       "#T_5529c_row2_col5, #T_5529c_row5_col11 {\n",
       "  font-size: 6pt;\n",
       "  background-color: #222222;\n",
       "  color: #f1f1f1;\n",
       "}\n",
       "#T_5529c_row2_col8, #T_5529c_row2_col14, #T_5529c_row3_col14, #T_5529c_row17_col13 {\n",
       "  font-size: 6pt;\n",
       "  background-color: #171717;\n",
       "  color: #f1f1f1;\n",
       "}\n",
       "#T_5529c_row2_col9, #T_5529c_row3_col11 {\n",
       "  font-size: 6pt;\n",
       "  background-color: #4b4b4b;\n",
       "  color: #f1f1f1;\n",
       "}\n",
       "#T_5529c_row2_col10, #T_5529c_row7_col10, #T_5529c_row8_col8, #T_5529c_row8_col10, #T_5529c_row9_col8, #T_5529c_row9_col10, #T_5529c_row18_col10, #T_5529c_row19_col8 {\n",
       "  font-size: 6pt;\n",
       "  background-color: #010101;\n",
       "  color: #f1f1f1;\n",
       "}\n",
       "#T_5529c_row3_col1 {\n",
       "  font-size: 6pt;\n",
       "  background-color: #272727;\n",
       "  color: #f1f1f1;\n",
       "}\n",
       "#T_5529c_row3_col2 {\n",
       "  font-size: 6pt;\n",
       "  background-color: #0a0a0a;\n",
       "  color: #f1f1f1;\n",
       "}\n",
       "#T_5529c_row3_col3, #T_5529c_row14_col13 {\n",
       "  font-size: 6pt;\n",
       "  background-color: #050505;\n",
       "  color: #f1f1f1;\n",
       "}\n",
       "#T_5529c_row3_col5, #T_5529c_row8_col11, #T_5529c_row10_col15, #T_5529c_row19_col2 {\n",
       "  font-size: 6pt;\n",
       "  background-color: #545454;\n",
       "  color: #f1f1f1;\n",
       "}\n",
       "#T_5529c_row3_col6 {\n",
       "  font-size: 6pt;\n",
       "  background-color: #e6e6e6;\n",
       "  color: #000000;\n",
       "}\n",
       "#T_5529c_row3_col7, #T_5529c_row3_col10, #T_5529c_row8_col5 {\n",
       "  font-size: 6pt;\n",
       "  background-color: #fafafa;\n",
       "  color: #000000;\n",
       "}\n",
       "#T_5529c_row3_col8, #T_5529c_row11_col10, #T_5529c_row16_col15 {\n",
       "  font-size: 6pt;\n",
       "  background-color: #fbfbfb;\n",
       "  color: #000000;\n",
       "}\n",
       "#T_5529c_row3_col9 {\n",
       "  font-size: 6pt;\n",
       "  background-color: #fdfdfd;\n",
       "  color: #000000;\n",
       "}\n",
       "#T_5529c_row4_col4 {\n",
       "  font-size: 6pt;\n",
       "  background-color: #1b1b1b;\n",
       "  color: #f1f1f1;\n",
       "}\n",
       "#T_5529c_row4_col11 {\n",
       "  font-size: 6pt;\n",
       "  background-color: #4e4e4e;\n",
       "  color: #f1f1f1;\n",
       "}\n",
       "#T_5529c_row4_col14 {\n",
       "  font-size: 6pt;\n",
       "  background-color: #767676;\n",
       "  color: #f1f1f1;\n",
       "}\n",
       "#T_5529c_row5_col1 {\n",
       "  font-size: 6pt;\n",
       "  background-color: #fcfcfc;\n",
       "  color: #000000;\n",
       "}\n",
       "#T_5529c_row5_col2, #T_5529c_row5_col3, #T_5529c_row15_col16 {\n",
       "  font-size: 6pt;\n",
       "  background-color: #f6f6f6;\n",
       "  color: #000000;\n",
       "}\n",
       "#T_5529c_row5_col4, #T_5529c_row7_col7 {\n",
       "  font-size: 6pt;\n",
       "  background-color: #f8f8f8;\n",
       "  color: #000000;\n",
       "}\n",
       "#T_5529c_row5_col10, #T_5529c_row10_col7 {\n",
       "  font-size: 6pt;\n",
       "  background-color: #e8e8e8;\n",
       "  color: #000000;\n",
       "}\n",
       "#T_5529c_row5_col13, #T_5529c_row6_col12 {\n",
       "  font-size: 6pt;\n",
       "  background-color: #090909;\n",
       "  color: #f1f1f1;\n",
       "}\n",
       "#T_5529c_row5_col14 {\n",
       "  font-size: 6pt;\n",
       "  background-color: #d0d0d0;\n",
       "  color: #000000;\n",
       "}\n",
       "#T_5529c_row6_col10, #T_5529c_row7_col11, #T_5529c_row9_col6 {\n",
       "  font-size: 6pt;\n",
       "  background-color: #060606;\n",
       "  color: #f1f1f1;\n",
       "}\n",
       "#T_5529c_row6_col13 {\n",
       "  font-size: 6pt;\n",
       "  background-color: #979797;\n",
       "  color: #f1f1f1;\n",
       "}\n",
       "#T_5529c_row7_col8 {\n",
       "  font-size: 6pt;\n",
       "  background-color: #b6b6b6;\n",
       "  color: #000000;\n",
       "}\n",
       "#T_5529c_row7_col9 {\n",
       "  font-size: 6pt;\n",
       "  background-color: #252525;\n",
       "  color: #f1f1f1;\n",
       "}\n",
       "#T_5529c_row7_col12 {\n",
       "  font-size: 6pt;\n",
       "  background-color: #999999;\n",
       "  color: #f1f1f1;\n",
       "}\n",
       "#T_5529c_row8_col7, #T_5529c_row18_col8 {\n",
       "  font-size: 6pt;\n",
       "  background-color: #101010;\n",
       "  color: #f1f1f1;\n",
       "}\n",
       "#T_5529c_row8_col9, #T_5529c_row9_col9, #T_5529c_row17_col10, #T_5529c_row18_col9, #T_5529c_row19_col9 {\n",
       "  font-size: 6pt;\n",
       "  background-color: #020202;\n",
       "  color: #f1f1f1;\n",
       "}\n",
       "#T_5529c_row9_col5 {\n",
       "  font-size: 6pt;\n",
       "  background-color: #f7f7f7;\n",
       "  color: #000000;\n",
       "}\n",
       "#T_5529c_row9_col7, #T_5529c_row18_col11 {\n",
       "  font-size: 6pt;\n",
       "  background-color: #030303;\n",
       "  color: #f1f1f1;\n",
       "}\n",
       "#T_5529c_row9_col12 {\n",
       "  font-size: 6pt;\n",
       "  background-color: #181818;\n",
       "  color: #f1f1f1;\n",
       "}\n",
       "#T_5529c_row9_col13 {\n",
       "  font-size: 6pt;\n",
       "  background-color: #303030;\n",
       "  color: #f1f1f1;\n",
       "}\n",
       "#T_5529c_row9_col14 {\n",
       "  font-size: 6pt;\n",
       "  background-color: #a9a9a9;\n",
       "  color: #f1f1f1;\n",
       "}\n",
       "#T_5529c_row9_col15 {\n",
       "  font-size: 6pt;\n",
       "  background-color: #fefefe;\n",
       "  color: #000000;\n",
       "}\n",
       "#T_5529c_row10_col8, #T_5529c_row10_col9, #T_5529c_row16_col10 {\n",
       "  font-size: 6pt;\n",
       "  background-color: #bababa;\n",
       "  color: #000000;\n",
       "}\n",
       "#T_5529c_row10_col10 {\n",
       "  font-size: 6pt;\n",
       "  background-color: #393939;\n",
       "  color: #f1f1f1;\n",
       "}\n",
       "#T_5529c_row10_col16 {\n",
       "  font-size: 6pt;\n",
       "  background-color: #eaeaea;\n",
       "  color: #000000;\n",
       "}\n",
       "#T_5529c_row11_col11 {\n",
       "  font-size: 6pt;\n",
       "  background-color: #e2e2e2;\n",
       "  color: #000000;\n",
       "}\n",
       "#T_5529c_row11_col12 {\n",
       "  font-size: 6pt;\n",
       "  background-color: #9f9f9f;\n",
       "  color: #f1f1f1;\n",
       "}\n",
       "#T_5529c_row11_col16 {\n",
       "  font-size: 6pt;\n",
       "  background-color: #898989;\n",
       "  color: #f1f1f1;\n",
       "}\n",
       "#T_5529c_row12_col13 {\n",
       "  font-size: 6pt;\n",
       "  background-color: #585858;\n",
       "  color: #f1f1f1;\n",
       "}\n",
       "#T_5529c_row13_col13 {\n",
       "  font-size: 6pt;\n",
       "  background-color: #5a5a5a;\n",
       "  color: #f1f1f1;\n",
       "}\n",
       "#T_5529c_row13_col16 {\n",
       "  font-size: 6pt;\n",
       "  background-color: #525252;\n",
       "  color: #f1f1f1;\n",
       "}\n",
       "#T_5529c_row14_col12, #T_5529c_row19_col11 {\n",
       "  font-size: 6pt;\n",
       "  background-color: #c5c5c5;\n",
       "  color: #000000;\n",
       "}\n",
       "#T_5529c_row14_col16 {\n",
       "  font-size: 6pt;\n",
       "  background-color: #d7d7d7;\n",
       "  color: #000000;\n",
       "}\n",
       "#T_5529c_row15_col11, #T_5529c_row18_col5 {\n",
       "  font-size: 6pt;\n",
       "  background-color: #dcdcdc;\n",
       "  color: #000000;\n",
       "}\n",
       "#T_5529c_row15_col12 {\n",
       "  font-size: 6pt;\n",
       "  background-color: #2f2f2f;\n",
       "  color: #f1f1f1;\n",
       "}\n",
       "#T_5529c_row15_col15 {\n",
       "  font-size: 6pt;\n",
       "  background-color: #636363;\n",
       "  color: #f1f1f1;\n",
       "}\n",
       "#T_5529c_row16_col11 {\n",
       "  font-size: 6pt;\n",
       "  background-color: #070707;\n",
       "  color: #f1f1f1;\n",
       "}\n",
       "#T_5529c_row16_col14 {\n",
       "  font-size: 6pt;\n",
       "  background-color: #1f1f1f;\n",
       "  color: #f1f1f1;\n",
       "}\n",
       "#T_5529c_row17_col8, #T_5529c_row18_col2, #T_5529c_row18_col4 {\n",
       "  font-size: 6pt;\n",
       "  background-color: #e9e9e9;\n",
       "  color: #000000;\n",
       "}\n",
       "#T_5529c_row17_col9 {\n",
       "  font-size: 6pt;\n",
       "  background-color: #7d7d7d;\n",
       "  color: #f1f1f1;\n",
       "}\n",
       "#T_5529c_row17_col14 {\n",
       "  font-size: 6pt;\n",
       "  background-color: #e1e1e1;\n",
       "  color: #000000;\n",
       "}\n",
       "#T_5529c_row18_col3, #T_5529c_row18_col6 {\n",
       "  font-size: 6pt;\n",
       "  background-color: #a4a4a4;\n",
       "  color: #f1f1f1;\n",
       "}\n",
       "#T_5529c_row18_col7 {\n",
       "  font-size: 6pt;\n",
       "  background-color: #727272;\n",
       "  color: #f1f1f1;\n",
       "}\n",
       "#T_5529c_row18_col12 {\n",
       "  font-size: 6pt;\n",
       "  background-color: #616161;\n",
       "  color: #f1f1f1;\n",
       "}\n",
       "#T_5529c_row18_col13 {\n",
       "  font-size: 6pt;\n",
       "  background-color: #f3f3f3;\n",
       "  color: #000000;\n",
       "}\n",
       "#T_5529c_row19_col10 {\n",
       "  font-size: 6pt;\n",
       "  background-color: #484848;\n",
       "  color: #f1f1f1;\n",
       "}\n",
       "#T_5529c_row20_col2 {\n",
       "  font-size: 6pt;\n",
       "  background-color: #b3b3b3;\n",
       "  color: #000000;\n",
       "}\n",
       "#T_5529c_row20_col8 {\n",
       "  font-size: 6pt;\n",
       "  background-color: #1a1a1a;\n",
       "  color: #f1f1f1;\n",
       "}\n",
       "#T_5529c_row20_col9 {\n",
       "  font-size: 6pt;\n",
       "  background-color: #d6d6d6;\n",
       "  color: #000000;\n",
       "}\n",
       "</style>\n",
       "<table id=\"T_5529c\">\n",
       "  <thead>\n",
       "    <tr>\n",
       "      <th class=\"blank level0\" >&nbsp;</th>\n",
       "      <th id=\"T_5529c_level0_col0\" class=\"col_heading level0 col0\" >0</th>\n",
       "      <th id=\"T_5529c_level0_col1\" class=\"col_heading level0 col1\" >1</th>\n",
       "      <th id=\"T_5529c_level0_col2\" class=\"col_heading level0 col2\" >2</th>\n",
       "      <th id=\"T_5529c_level0_col3\" class=\"col_heading level0 col3\" >3</th>\n",
       "      <th id=\"T_5529c_level0_col4\" class=\"col_heading level0 col4\" >4</th>\n",
       "      <th id=\"T_5529c_level0_col5\" class=\"col_heading level0 col5\" >5</th>\n",
       "      <th id=\"T_5529c_level0_col6\" class=\"col_heading level0 col6\" >6</th>\n",
       "      <th id=\"T_5529c_level0_col7\" class=\"col_heading level0 col7\" >7</th>\n",
       "      <th id=\"T_5529c_level0_col8\" class=\"col_heading level0 col8\" >8</th>\n",
       "      <th id=\"T_5529c_level0_col9\" class=\"col_heading level0 col9\" >9</th>\n",
       "      <th id=\"T_5529c_level0_col10\" class=\"col_heading level0 col10\" >10</th>\n",
       "      <th id=\"T_5529c_level0_col11\" class=\"col_heading level0 col11\" >11</th>\n",
       "      <th id=\"T_5529c_level0_col12\" class=\"col_heading level0 col12\" >12</th>\n",
       "      <th id=\"T_5529c_level0_col13\" class=\"col_heading level0 col13\" >13</th>\n",
       "      <th id=\"T_5529c_level0_col14\" class=\"col_heading level0 col14\" >14</th>\n",
       "      <th id=\"T_5529c_level0_col15\" class=\"col_heading level0 col15\" >15</th>\n",
       "      <th id=\"T_5529c_level0_col16\" class=\"col_heading level0 col16\" >16</th>\n",
       "      <th id=\"T_5529c_level0_col17\" class=\"col_heading level0 col17\" >17</th>\n",
       "    </tr>\n",
       "  </thead>\n",
       "  <tbody>\n",
       "    <tr>\n",
       "      <th id=\"T_5529c_level0_row0\" class=\"row_heading level0 row0\" >0</th>\n",
       "      <td id=\"T_5529c_row0_col0\" class=\"data row0 col0\" >0</td>\n",
       "      <td id=\"T_5529c_row0_col1\" class=\"data row0 col1\" >0</td>\n",
       "      <td id=\"T_5529c_row0_col2\" class=\"data row0 col2\" >0</td>\n",
       "      <td id=\"T_5529c_row0_col3\" class=\"data row0 col3\" >0</td>\n",
       "      <td id=\"T_5529c_row0_col4\" class=\"data row0 col4\" >0</td>\n",
       "      <td id=\"T_5529c_row0_col5\" class=\"data row0 col5\" >0</td>\n",
       "      <td id=\"T_5529c_row0_col6\" class=\"data row0 col6\" >0</td>\n",
       "      <td id=\"T_5529c_row0_col7\" class=\"data row0 col7\" >0</td>\n",
       "      <td id=\"T_5529c_row0_col8\" class=\"data row0 col8\" >0</td>\n",
       "      <td id=\"T_5529c_row0_col9\" class=\"data row0 col9\" >0</td>\n",
       "      <td id=\"T_5529c_row0_col10\" class=\"data row0 col10\" >0</td>\n",
       "      <td id=\"T_5529c_row0_col11\" class=\"data row0 col11\" >0</td>\n",
       "      <td id=\"T_5529c_row0_col12\" class=\"data row0 col12\" >0</td>\n",
       "      <td id=\"T_5529c_row0_col13\" class=\"data row0 col13\" >0</td>\n",
       "      <td id=\"T_5529c_row0_col14\" class=\"data row0 col14\" >0</td>\n",
       "      <td id=\"T_5529c_row0_col15\" class=\"data row0 col15\" >0</td>\n",
       "      <td id=\"T_5529c_row0_col16\" class=\"data row0 col16\" >0</td>\n",
       "      <td id=\"T_5529c_row0_col17\" class=\"data row0 col17\" >0</td>\n",
       "    </tr>\n",
       "    <tr>\n",
       "      <th id=\"T_5529c_level0_row1\" class=\"row_heading level0 row1\" >1</th>\n",
       "      <td id=\"T_5529c_row1_col0\" class=\"data row1 col0\" >0</td>\n",
       "      <td id=\"T_5529c_row1_col1\" class=\"data row1 col1\" >0</td>\n",
       "      <td id=\"T_5529c_row1_col2\" class=\"data row1 col2\" >0</td>\n",
       "      <td id=\"T_5529c_row1_col3\" class=\"data row1 col3\" >0</td>\n",
       "      <td id=\"T_5529c_row1_col4\" class=\"data row1 col4\" >0</td>\n",
       "      <td id=\"T_5529c_row1_col5\" class=\"data row1 col5\" >29</td>\n",
       "      <td id=\"T_5529c_row1_col6\" class=\"data row1 col6\" >150</td>\n",
       "      <td id=\"T_5529c_row1_col7\" class=\"data row1 col7\" >195</td>\n",
       "      <td id=\"T_5529c_row1_col8\" class=\"data row1 col8\" >254</td>\n",
       "      <td id=\"T_5529c_row1_col9\" class=\"data row1 col9\" >255</td>\n",
       "      <td id=\"T_5529c_row1_col10\" class=\"data row1 col10\" >254</td>\n",
       "      <td id=\"T_5529c_row1_col11\" class=\"data row1 col11\" >176</td>\n",
       "      <td id=\"T_5529c_row1_col12\" class=\"data row1 col12\" >193</td>\n",
       "      <td id=\"T_5529c_row1_col13\" class=\"data row1 col13\" >150</td>\n",
       "      <td id=\"T_5529c_row1_col14\" class=\"data row1 col14\" >96</td>\n",
       "      <td id=\"T_5529c_row1_col15\" class=\"data row1 col15\" >0</td>\n",
       "      <td id=\"T_5529c_row1_col16\" class=\"data row1 col16\" >0</td>\n",
       "      <td id=\"T_5529c_row1_col17\" class=\"data row1 col17\" >0</td>\n",
       "    </tr>\n",
       "    <tr>\n",
       "      <th id=\"T_5529c_level0_row2\" class=\"row_heading level0 row2\" >2</th>\n",
       "      <td id=\"T_5529c_row2_col0\" class=\"data row2 col0\" >0</td>\n",
       "      <td id=\"T_5529c_row2_col1\" class=\"data row2 col1\" >0</td>\n",
       "      <td id=\"T_5529c_row2_col2\" class=\"data row2 col2\" >0</td>\n",
       "      <td id=\"T_5529c_row2_col3\" class=\"data row2 col3\" >48</td>\n",
       "      <td id=\"T_5529c_row2_col4\" class=\"data row2 col4\" >166</td>\n",
       "      <td id=\"T_5529c_row2_col5\" class=\"data row2 col5\" >224</td>\n",
       "      <td id=\"T_5529c_row2_col6\" class=\"data row2 col6\" >253</td>\n",
       "      <td id=\"T_5529c_row2_col7\" class=\"data row2 col7\" >253</td>\n",
       "      <td id=\"T_5529c_row2_col8\" class=\"data row2 col8\" >234</td>\n",
       "      <td id=\"T_5529c_row2_col9\" class=\"data row2 col9\" >196</td>\n",
       "      <td id=\"T_5529c_row2_col10\" class=\"data row2 col10\" >253</td>\n",
       "      <td id=\"T_5529c_row2_col11\" class=\"data row2 col11\" >253</td>\n",
       "      <td id=\"T_5529c_row2_col12\" class=\"data row2 col12\" >253</td>\n",
       "      <td id=\"T_5529c_row2_col13\" class=\"data row2 col13\" >253</td>\n",
       "      <td id=\"T_5529c_row2_col14\" class=\"data row2 col14\" >233</td>\n",
       "      <td id=\"T_5529c_row2_col15\" class=\"data row2 col15\" >0</td>\n",
       "      <td id=\"T_5529c_row2_col16\" class=\"data row2 col16\" >0</td>\n",
       "      <td id=\"T_5529c_row2_col17\" class=\"data row2 col17\" >0</td>\n",
       "    </tr>\n",
       "    <tr>\n",
       "      <th id=\"T_5529c_level0_row3\" class=\"row_heading level0 row3\" >3</th>\n",
       "      <td id=\"T_5529c_row3_col0\" class=\"data row3 col0\" >0</td>\n",
       "      <td id=\"T_5529c_row3_col1\" class=\"data row3 col1\" >93</td>\n",
       "      <td id=\"T_5529c_row3_col2\" class=\"data row3 col2\" >244</td>\n",
       "      <td id=\"T_5529c_row3_col3\" class=\"data row3 col3\" >249</td>\n",
       "      <td id=\"T_5529c_row3_col4\" class=\"data row3 col4\" >253</td>\n",
       "      <td id=\"T_5529c_row3_col5\" class=\"data row3 col5\" >187</td>\n",
       "      <td id=\"T_5529c_row3_col6\" class=\"data row3 col6\" >46</td>\n",
       "      <td id=\"T_5529c_row3_col7\" class=\"data row3 col7\" >10</td>\n",
       "      <td id=\"T_5529c_row3_col8\" class=\"data row3 col8\" >8</td>\n",
       "      <td id=\"T_5529c_row3_col9\" class=\"data row3 col9\" >4</td>\n",
       "      <td id=\"T_5529c_row3_col10\" class=\"data row3 col10\" >10</td>\n",
       "      <td id=\"T_5529c_row3_col11\" class=\"data row3 col11\" >194</td>\n",
       "      <td id=\"T_5529c_row3_col12\" class=\"data row3 col12\" >253</td>\n",
       "      <td id=\"T_5529c_row3_col13\" class=\"data row3 col13\" >253</td>\n",
       "      <td id=\"T_5529c_row3_col14\" class=\"data row3 col14\" >233</td>\n",
       "      <td id=\"T_5529c_row3_col15\" class=\"data row3 col15\" >0</td>\n",
       "      <td id=\"T_5529c_row3_col16\" class=\"data row3 col16\" >0</td>\n",
       "      <td id=\"T_5529c_row3_col17\" class=\"data row3 col17\" >0</td>\n",
       "    </tr>\n",
       "    <tr>\n",
       "      <th id=\"T_5529c_level0_row4\" class=\"row_heading level0 row4\" >4</th>\n",
       "      <td id=\"T_5529c_row4_col0\" class=\"data row4 col0\" >0</td>\n",
       "      <td id=\"T_5529c_row4_col1\" class=\"data row4 col1\" >107</td>\n",
       "      <td id=\"T_5529c_row4_col2\" class=\"data row4 col2\" >253</td>\n",
       "      <td id=\"T_5529c_row4_col3\" class=\"data row4 col3\" >253</td>\n",
       "      <td id=\"T_5529c_row4_col4\" class=\"data row4 col4\" >230</td>\n",
       "      <td id=\"T_5529c_row4_col5\" class=\"data row4 col5\" >48</td>\n",
       "      <td id=\"T_5529c_row4_col6\" class=\"data row4 col6\" >0</td>\n",
       "      <td id=\"T_5529c_row4_col7\" class=\"data row4 col7\" >0</td>\n",
       "      <td id=\"T_5529c_row4_col8\" class=\"data row4 col8\" >0</td>\n",
       "      <td id=\"T_5529c_row4_col9\" class=\"data row4 col9\" >0</td>\n",
       "      <td id=\"T_5529c_row4_col10\" class=\"data row4 col10\" >0</td>\n",
       "      <td id=\"T_5529c_row4_col11\" class=\"data row4 col11\" >192</td>\n",
       "      <td id=\"T_5529c_row4_col12\" class=\"data row4 col12\" >253</td>\n",
       "      <td id=\"T_5529c_row4_col13\" class=\"data row4 col13\" >253</td>\n",
       "      <td id=\"T_5529c_row4_col14\" class=\"data row4 col14\" >156</td>\n",
       "      <td id=\"T_5529c_row4_col15\" class=\"data row4 col15\" >0</td>\n",
       "      <td id=\"T_5529c_row4_col16\" class=\"data row4 col16\" >0</td>\n",
       "      <td id=\"T_5529c_row4_col17\" class=\"data row4 col17\" >0</td>\n",
       "    </tr>\n",
       "    <tr>\n",
       "      <th id=\"T_5529c_level0_row5\" class=\"row_heading level0 row5\" >5</th>\n",
       "      <td id=\"T_5529c_row5_col0\" class=\"data row5 col0\" >0</td>\n",
       "      <td id=\"T_5529c_row5_col1\" class=\"data row5 col1\" >3</td>\n",
       "      <td id=\"T_5529c_row5_col2\" class=\"data row5 col2\" >20</td>\n",
       "      <td id=\"T_5529c_row5_col3\" class=\"data row5 col3\" >20</td>\n",
       "      <td id=\"T_5529c_row5_col4\" class=\"data row5 col4\" >15</td>\n",
       "      <td id=\"T_5529c_row5_col5\" class=\"data row5 col5\" >0</td>\n",
       "      <td id=\"T_5529c_row5_col6\" class=\"data row5 col6\" >0</td>\n",
       "      <td id=\"T_5529c_row5_col7\" class=\"data row5 col7\" >0</td>\n",
       "      <td id=\"T_5529c_row5_col8\" class=\"data row5 col8\" >0</td>\n",
       "      <td id=\"T_5529c_row5_col9\" class=\"data row5 col9\" >0</td>\n",
       "      <td id=\"T_5529c_row5_col10\" class=\"data row5 col10\" >43</td>\n",
       "      <td id=\"T_5529c_row5_col11\" class=\"data row5 col11\" >224</td>\n",
       "      <td id=\"T_5529c_row5_col12\" class=\"data row5 col12\" >253</td>\n",
       "      <td id=\"T_5529c_row5_col13\" class=\"data row5 col13\" >245</td>\n",
       "      <td id=\"T_5529c_row5_col14\" class=\"data row5 col14\" >74</td>\n",
       "      <td id=\"T_5529c_row5_col15\" class=\"data row5 col15\" >0</td>\n",
       "      <td id=\"T_5529c_row5_col16\" class=\"data row5 col16\" >0</td>\n",
       "      <td id=\"T_5529c_row5_col17\" class=\"data row5 col17\" >0</td>\n",
       "    </tr>\n",
       "    <tr>\n",
       "      <th id=\"T_5529c_level0_row6\" class=\"row_heading level0 row6\" >6</th>\n",
       "      <td id=\"T_5529c_row6_col0\" class=\"data row6 col0\" >0</td>\n",
       "      <td id=\"T_5529c_row6_col1\" class=\"data row6 col1\" >0</td>\n",
       "      <td id=\"T_5529c_row6_col2\" class=\"data row6 col2\" >0</td>\n",
       "      <td id=\"T_5529c_row6_col3\" class=\"data row6 col3\" >0</td>\n",
       "      <td id=\"T_5529c_row6_col4\" class=\"data row6 col4\" >0</td>\n",
       "      <td id=\"T_5529c_row6_col5\" class=\"data row6 col5\" >0</td>\n",
       "      <td id=\"T_5529c_row6_col6\" class=\"data row6 col6\" >0</td>\n",
       "      <td id=\"T_5529c_row6_col7\" class=\"data row6 col7\" >0</td>\n",
       "      <td id=\"T_5529c_row6_col8\" class=\"data row6 col8\" >0</td>\n",
       "      <td id=\"T_5529c_row6_col9\" class=\"data row6 col9\" >0</td>\n",
       "      <td id=\"T_5529c_row6_col10\" class=\"data row6 col10\" >249</td>\n",
       "      <td id=\"T_5529c_row6_col11\" class=\"data row6 col11\" >253</td>\n",
       "      <td id=\"T_5529c_row6_col12\" class=\"data row6 col12\" >245</td>\n",
       "      <td id=\"T_5529c_row6_col13\" class=\"data row6 col13\" >126</td>\n",
       "      <td id=\"T_5529c_row6_col14\" class=\"data row6 col14\" >0</td>\n",
       "      <td id=\"T_5529c_row6_col15\" class=\"data row6 col15\" >0</td>\n",
       "      <td id=\"T_5529c_row6_col16\" class=\"data row6 col16\" >0</td>\n",
       "      <td id=\"T_5529c_row6_col17\" class=\"data row6 col17\" >0</td>\n",
       "    </tr>\n",
       "    <tr>\n",
       "      <th id=\"T_5529c_level0_row7\" class=\"row_heading level0 row7\" >7</th>\n",
       "      <td id=\"T_5529c_row7_col0\" class=\"data row7 col0\" >0</td>\n",
       "      <td id=\"T_5529c_row7_col1\" class=\"data row7 col1\" >0</td>\n",
       "      <td id=\"T_5529c_row7_col2\" class=\"data row7 col2\" >0</td>\n",
       "      <td id=\"T_5529c_row7_col3\" class=\"data row7 col3\" >0</td>\n",
       "      <td id=\"T_5529c_row7_col4\" class=\"data row7 col4\" >0</td>\n",
       "      <td id=\"T_5529c_row7_col5\" class=\"data row7 col5\" >0</td>\n",
       "      <td id=\"T_5529c_row7_col6\" class=\"data row7 col6\" >0</td>\n",
       "      <td id=\"T_5529c_row7_col7\" class=\"data row7 col7\" >14</td>\n",
       "      <td id=\"T_5529c_row7_col8\" class=\"data row7 col8\" >101</td>\n",
       "      <td id=\"T_5529c_row7_col9\" class=\"data row7 col9\" >223</td>\n",
       "      <td id=\"T_5529c_row7_col10\" class=\"data row7 col10\" >253</td>\n",
       "      <td id=\"T_5529c_row7_col11\" class=\"data row7 col11\" >248</td>\n",
       "      <td id=\"T_5529c_row7_col12\" class=\"data row7 col12\" >124</td>\n",
       "      <td id=\"T_5529c_row7_col13\" class=\"data row7 col13\" >0</td>\n",
       "      <td id=\"T_5529c_row7_col14\" class=\"data row7 col14\" >0</td>\n",
       "      <td id=\"T_5529c_row7_col15\" class=\"data row7 col15\" >0</td>\n",
       "      <td id=\"T_5529c_row7_col16\" class=\"data row7 col16\" >0</td>\n",
       "      <td id=\"T_5529c_row7_col17\" class=\"data row7 col17\" >0</td>\n",
       "    </tr>\n",
       "    <tr>\n",
       "      <th id=\"T_5529c_level0_row8\" class=\"row_heading level0 row8\" >8</th>\n",
       "      <td id=\"T_5529c_row8_col0\" class=\"data row8 col0\" >0</td>\n",
       "      <td id=\"T_5529c_row8_col1\" class=\"data row8 col1\" >0</td>\n",
       "      <td id=\"T_5529c_row8_col2\" class=\"data row8 col2\" >0</td>\n",
       "      <td id=\"T_5529c_row8_col3\" class=\"data row8 col3\" >0</td>\n",
       "      <td id=\"T_5529c_row8_col4\" class=\"data row8 col4\" >0</td>\n",
       "      <td id=\"T_5529c_row8_col5\" class=\"data row8 col5\" >11</td>\n",
       "      <td id=\"T_5529c_row8_col6\" class=\"data row8 col6\" >166</td>\n",
       "      <td id=\"T_5529c_row8_col7\" class=\"data row8 col7\" >239</td>\n",
       "      <td id=\"T_5529c_row8_col8\" class=\"data row8 col8\" >253</td>\n",
       "      <td id=\"T_5529c_row8_col9\" class=\"data row8 col9\" >253</td>\n",
       "      <td id=\"T_5529c_row8_col10\" class=\"data row8 col10\" >253</td>\n",
       "      <td id=\"T_5529c_row8_col11\" class=\"data row8 col11\" >187</td>\n",
       "      <td id=\"T_5529c_row8_col12\" class=\"data row8 col12\" >30</td>\n",
       "      <td id=\"T_5529c_row8_col13\" class=\"data row8 col13\" >0</td>\n",
       "      <td id=\"T_5529c_row8_col14\" class=\"data row8 col14\" >0</td>\n",
       "      <td id=\"T_5529c_row8_col15\" class=\"data row8 col15\" >0</td>\n",
       "      <td id=\"T_5529c_row8_col16\" class=\"data row8 col16\" >0</td>\n",
       "      <td id=\"T_5529c_row8_col17\" class=\"data row8 col17\" >0</td>\n",
       "    </tr>\n",
       "    <tr>\n",
       "      <th id=\"T_5529c_level0_row9\" class=\"row_heading level0 row9\" >9</th>\n",
       "      <td id=\"T_5529c_row9_col0\" class=\"data row9 col0\" >0</td>\n",
       "      <td id=\"T_5529c_row9_col1\" class=\"data row9 col1\" >0</td>\n",
       "      <td id=\"T_5529c_row9_col2\" class=\"data row9 col2\" >0</td>\n",
       "      <td id=\"T_5529c_row9_col3\" class=\"data row9 col3\" >0</td>\n",
       "      <td id=\"T_5529c_row9_col4\" class=\"data row9 col4\" >0</td>\n",
       "      <td id=\"T_5529c_row9_col5\" class=\"data row9 col5\" >16</td>\n",
       "      <td id=\"T_5529c_row9_col6\" class=\"data row9 col6\" >248</td>\n",
       "      <td id=\"T_5529c_row9_col7\" class=\"data row9 col7\" >250</td>\n",
       "      <td id=\"T_5529c_row9_col8\" class=\"data row9 col8\" >253</td>\n",
       "      <td id=\"T_5529c_row9_col9\" class=\"data row9 col9\" >253</td>\n",
       "      <td id=\"T_5529c_row9_col10\" class=\"data row9 col10\" >253</td>\n",
       "      <td id=\"T_5529c_row9_col11\" class=\"data row9 col11\" >253</td>\n",
       "      <td id=\"T_5529c_row9_col12\" class=\"data row9 col12\" >232</td>\n",
       "      <td id=\"T_5529c_row9_col13\" class=\"data row9 col13\" >213</td>\n",
       "      <td id=\"T_5529c_row9_col14\" class=\"data row9 col14\" >111</td>\n",
       "      <td id=\"T_5529c_row9_col15\" class=\"data row9 col15\" >2</td>\n",
       "      <td id=\"T_5529c_row9_col16\" class=\"data row9 col16\" >0</td>\n",
       "      <td id=\"T_5529c_row9_col17\" class=\"data row9 col17\" >0</td>\n",
       "    </tr>\n",
       "    <tr>\n",
       "      <th id=\"T_5529c_level0_row10\" class=\"row_heading level0 row10\" >10</th>\n",
       "      <td id=\"T_5529c_row10_col0\" class=\"data row10 col0\" >0</td>\n",
       "      <td id=\"T_5529c_row10_col1\" class=\"data row10 col1\" >0</td>\n",
       "      <td id=\"T_5529c_row10_col2\" class=\"data row10 col2\" >0</td>\n",
       "      <td id=\"T_5529c_row10_col3\" class=\"data row10 col3\" >0</td>\n",
       "      <td id=\"T_5529c_row10_col4\" class=\"data row10 col4\" >0</td>\n",
       "      <td id=\"T_5529c_row10_col5\" class=\"data row10 col5\" >0</td>\n",
       "      <td id=\"T_5529c_row10_col6\" class=\"data row10 col6\" >0</td>\n",
       "      <td id=\"T_5529c_row10_col7\" class=\"data row10 col7\" >43</td>\n",
       "      <td id=\"T_5529c_row10_col8\" class=\"data row10 col8\" >98</td>\n",
       "      <td id=\"T_5529c_row10_col9\" class=\"data row10 col9\" >98</td>\n",
       "      <td id=\"T_5529c_row10_col10\" class=\"data row10 col10\" >208</td>\n",
       "      <td id=\"T_5529c_row10_col11\" class=\"data row10 col11\" >253</td>\n",
       "      <td id=\"T_5529c_row10_col12\" class=\"data row10 col12\" >253</td>\n",
       "      <td id=\"T_5529c_row10_col13\" class=\"data row10 col13\" >253</td>\n",
       "      <td id=\"T_5529c_row10_col14\" class=\"data row10 col14\" >253</td>\n",
       "      <td id=\"T_5529c_row10_col15\" class=\"data row10 col15\" >187</td>\n",
       "      <td id=\"T_5529c_row10_col16\" class=\"data row10 col16\" >22</td>\n",
       "      <td id=\"T_5529c_row10_col17\" class=\"data row10 col17\" >0</td>\n",
       "    </tr>\n",
       "    <tr>\n",
       "      <th id=\"T_5529c_level0_row11\" class=\"row_heading level0 row11\" >11</th>\n",
       "      <td id=\"T_5529c_row11_col0\" class=\"data row11 col0\" >0</td>\n",
       "      <td id=\"T_5529c_row11_col1\" class=\"data row11 col1\" >0</td>\n",
       "      <td id=\"T_5529c_row11_col2\" class=\"data row11 col2\" >0</td>\n",
       "      <td id=\"T_5529c_row11_col3\" class=\"data row11 col3\" >0</td>\n",
       "      <td id=\"T_5529c_row11_col4\" class=\"data row11 col4\" >0</td>\n",
       "      <td id=\"T_5529c_row11_col5\" class=\"data row11 col5\" >0</td>\n",
       "      <td id=\"T_5529c_row11_col6\" class=\"data row11 col6\" >0</td>\n",
       "      <td id=\"T_5529c_row11_col7\" class=\"data row11 col7\" >0</td>\n",
       "      <td id=\"T_5529c_row11_col8\" class=\"data row11 col8\" >0</td>\n",
       "      <td id=\"T_5529c_row11_col9\" class=\"data row11 col9\" >0</td>\n",
       "      <td id=\"T_5529c_row11_col10\" class=\"data row11 col10\" >9</td>\n",
       "      <td id=\"T_5529c_row11_col11\" class=\"data row11 col11\" >51</td>\n",
       "      <td id=\"T_5529c_row11_col12\" class=\"data row11 col12\" >119</td>\n",
       "      <td id=\"T_5529c_row11_col13\" class=\"data row11 col13\" >253</td>\n",
       "      <td id=\"T_5529c_row11_col14\" class=\"data row11 col14\" >253</td>\n",
       "      <td id=\"T_5529c_row11_col15\" class=\"data row11 col15\" >253</td>\n",
       "      <td id=\"T_5529c_row11_col16\" class=\"data row11 col16\" >76</td>\n",
       "      <td id=\"T_5529c_row11_col17\" class=\"data row11 col17\" >0</td>\n",
       "    </tr>\n",
       "    <tr>\n",
       "      <th id=\"T_5529c_level0_row12\" class=\"row_heading level0 row12\" >12</th>\n",
       "      <td id=\"T_5529c_row12_col0\" class=\"data row12 col0\" >0</td>\n",
       "      <td id=\"T_5529c_row12_col1\" class=\"data row12 col1\" >0</td>\n",
       "      <td id=\"T_5529c_row12_col2\" class=\"data row12 col2\" >0</td>\n",
       "      <td id=\"T_5529c_row12_col3\" class=\"data row12 col3\" >0</td>\n",
       "      <td id=\"T_5529c_row12_col4\" class=\"data row12 col4\" >0</td>\n",
       "      <td id=\"T_5529c_row12_col5\" class=\"data row12 col5\" >0</td>\n",
       "      <td id=\"T_5529c_row12_col6\" class=\"data row12 col6\" >0</td>\n",
       "      <td id=\"T_5529c_row12_col7\" class=\"data row12 col7\" >0</td>\n",
       "      <td id=\"T_5529c_row12_col8\" class=\"data row12 col8\" >0</td>\n",
       "      <td id=\"T_5529c_row12_col9\" class=\"data row12 col9\" >0</td>\n",
       "      <td id=\"T_5529c_row12_col10\" class=\"data row12 col10\" >0</td>\n",
       "      <td id=\"T_5529c_row12_col11\" class=\"data row12 col11\" >0</td>\n",
       "      <td id=\"T_5529c_row12_col12\" class=\"data row12 col12\" >1</td>\n",
       "      <td id=\"T_5529c_row12_col13\" class=\"data row12 col13\" >183</td>\n",
       "      <td id=\"T_5529c_row12_col14\" class=\"data row12 col14\" >253</td>\n",
       "      <td id=\"T_5529c_row12_col15\" class=\"data row12 col15\" >253</td>\n",
       "      <td id=\"T_5529c_row12_col16\" class=\"data row12 col16\" >139</td>\n",
       "      <td id=\"T_5529c_row12_col17\" class=\"data row12 col17\" >0</td>\n",
       "    </tr>\n",
       "    <tr>\n",
       "      <th id=\"T_5529c_level0_row13\" class=\"row_heading level0 row13\" >13</th>\n",
       "      <td id=\"T_5529c_row13_col0\" class=\"data row13 col0\" >0</td>\n",
       "      <td id=\"T_5529c_row13_col1\" class=\"data row13 col1\" >0</td>\n",
       "      <td id=\"T_5529c_row13_col2\" class=\"data row13 col2\" >0</td>\n",
       "      <td id=\"T_5529c_row13_col3\" class=\"data row13 col3\" >0</td>\n",
       "      <td id=\"T_5529c_row13_col4\" class=\"data row13 col4\" >0</td>\n",
       "      <td id=\"T_5529c_row13_col5\" class=\"data row13 col5\" >0</td>\n",
       "      <td id=\"T_5529c_row13_col6\" class=\"data row13 col6\" >0</td>\n",
       "      <td id=\"T_5529c_row13_col7\" class=\"data row13 col7\" >0</td>\n",
       "      <td id=\"T_5529c_row13_col8\" class=\"data row13 col8\" >0</td>\n",
       "      <td id=\"T_5529c_row13_col9\" class=\"data row13 col9\" >0</td>\n",
       "      <td id=\"T_5529c_row13_col10\" class=\"data row13 col10\" >0</td>\n",
       "      <td id=\"T_5529c_row13_col11\" class=\"data row13 col11\" >0</td>\n",
       "      <td id=\"T_5529c_row13_col12\" class=\"data row13 col12\" >0</td>\n",
       "      <td id=\"T_5529c_row13_col13\" class=\"data row13 col13\" >182</td>\n",
       "      <td id=\"T_5529c_row13_col14\" class=\"data row13 col14\" >253</td>\n",
       "      <td id=\"T_5529c_row13_col15\" class=\"data row13 col15\" >253</td>\n",
       "      <td id=\"T_5529c_row13_col16\" class=\"data row13 col16\" >104</td>\n",
       "      <td id=\"T_5529c_row13_col17\" class=\"data row13 col17\" >0</td>\n",
       "    </tr>\n",
       "    <tr>\n",
       "      <th id=\"T_5529c_level0_row14\" class=\"row_heading level0 row14\" >14</th>\n",
       "      <td id=\"T_5529c_row14_col0\" class=\"data row14 col0\" >0</td>\n",
       "      <td id=\"T_5529c_row14_col1\" class=\"data row14 col1\" >0</td>\n",
       "      <td id=\"T_5529c_row14_col2\" class=\"data row14 col2\" >0</td>\n",
       "      <td id=\"T_5529c_row14_col3\" class=\"data row14 col3\" >0</td>\n",
       "      <td id=\"T_5529c_row14_col4\" class=\"data row14 col4\" >0</td>\n",
       "      <td id=\"T_5529c_row14_col5\" class=\"data row14 col5\" >0</td>\n",
       "      <td id=\"T_5529c_row14_col6\" class=\"data row14 col6\" >0</td>\n",
       "      <td id=\"T_5529c_row14_col7\" class=\"data row14 col7\" >0</td>\n",
       "      <td id=\"T_5529c_row14_col8\" class=\"data row14 col8\" >0</td>\n",
       "      <td id=\"T_5529c_row14_col9\" class=\"data row14 col9\" >0</td>\n",
       "      <td id=\"T_5529c_row14_col10\" class=\"data row14 col10\" >0</td>\n",
       "      <td id=\"T_5529c_row14_col11\" class=\"data row14 col11\" >0</td>\n",
       "      <td id=\"T_5529c_row14_col12\" class=\"data row14 col12\" >85</td>\n",
       "      <td id=\"T_5529c_row14_col13\" class=\"data row14 col13\" >249</td>\n",
       "      <td id=\"T_5529c_row14_col14\" class=\"data row14 col14\" >253</td>\n",
       "      <td id=\"T_5529c_row14_col15\" class=\"data row14 col15\" >253</td>\n",
       "      <td id=\"T_5529c_row14_col16\" class=\"data row14 col16\" >36</td>\n",
       "      <td id=\"T_5529c_row14_col17\" class=\"data row14 col17\" >0</td>\n",
       "    </tr>\n",
       "    <tr>\n",
       "      <th id=\"T_5529c_level0_row15\" class=\"row_heading level0 row15\" >15</th>\n",
       "      <td id=\"T_5529c_row15_col0\" class=\"data row15 col0\" >0</td>\n",
       "      <td id=\"T_5529c_row15_col1\" class=\"data row15 col1\" >0</td>\n",
       "      <td id=\"T_5529c_row15_col2\" class=\"data row15 col2\" >0</td>\n",
       "      <td id=\"T_5529c_row15_col3\" class=\"data row15 col3\" >0</td>\n",
       "      <td id=\"T_5529c_row15_col4\" class=\"data row15 col4\" >0</td>\n",
       "      <td id=\"T_5529c_row15_col5\" class=\"data row15 col5\" >0</td>\n",
       "      <td id=\"T_5529c_row15_col6\" class=\"data row15 col6\" >0</td>\n",
       "      <td id=\"T_5529c_row15_col7\" class=\"data row15 col7\" >0</td>\n",
       "      <td id=\"T_5529c_row15_col8\" class=\"data row15 col8\" >0</td>\n",
       "      <td id=\"T_5529c_row15_col9\" class=\"data row15 col9\" >0</td>\n",
       "      <td id=\"T_5529c_row15_col10\" class=\"data row15 col10\" >0</td>\n",
       "      <td id=\"T_5529c_row15_col11\" class=\"data row15 col11\" >60</td>\n",
       "      <td id=\"T_5529c_row15_col12\" class=\"data row15 col12\" >214</td>\n",
       "      <td id=\"T_5529c_row15_col13\" class=\"data row15 col13\" >253</td>\n",
       "      <td id=\"T_5529c_row15_col14\" class=\"data row15 col14\" >253</td>\n",
       "      <td id=\"T_5529c_row15_col15\" class=\"data row15 col15\" >173</td>\n",
       "      <td id=\"T_5529c_row15_col16\" class=\"data row15 col16\" >11</td>\n",
       "      <td id=\"T_5529c_row15_col17\" class=\"data row15 col17\" >0</td>\n",
       "    </tr>\n",
       "    <tr>\n",
       "      <th id=\"T_5529c_level0_row16\" class=\"row_heading level0 row16\" >16</th>\n",
       "      <td id=\"T_5529c_row16_col0\" class=\"data row16 col0\" >0</td>\n",
       "      <td id=\"T_5529c_row16_col1\" class=\"data row16 col1\" >0</td>\n",
       "      <td id=\"T_5529c_row16_col2\" class=\"data row16 col2\" >0</td>\n",
       "      <td id=\"T_5529c_row16_col3\" class=\"data row16 col3\" >0</td>\n",
       "      <td id=\"T_5529c_row16_col4\" class=\"data row16 col4\" >0</td>\n",
       "      <td id=\"T_5529c_row16_col5\" class=\"data row16 col5\" >0</td>\n",
       "      <td id=\"T_5529c_row16_col6\" class=\"data row16 col6\" >0</td>\n",
       "      <td id=\"T_5529c_row16_col7\" class=\"data row16 col7\" >0</td>\n",
       "      <td id=\"T_5529c_row16_col8\" class=\"data row16 col8\" >0</td>\n",
       "      <td id=\"T_5529c_row16_col9\" class=\"data row16 col9\" >0</td>\n",
       "      <td id=\"T_5529c_row16_col10\" class=\"data row16 col10\" >98</td>\n",
       "      <td id=\"T_5529c_row16_col11\" class=\"data row16 col11\" >247</td>\n",
       "      <td id=\"T_5529c_row16_col12\" class=\"data row16 col12\" >253</td>\n",
       "      <td id=\"T_5529c_row16_col13\" class=\"data row16 col13\" >253</td>\n",
       "      <td id=\"T_5529c_row16_col14\" class=\"data row16 col14\" >226</td>\n",
       "      <td id=\"T_5529c_row16_col15\" class=\"data row16 col15\" >9</td>\n",
       "      <td id=\"T_5529c_row16_col16\" class=\"data row16 col16\" >0</td>\n",
       "      <td id=\"T_5529c_row16_col17\" class=\"data row16 col17\" >0</td>\n",
       "    </tr>\n",
       "    <tr>\n",
       "      <th id=\"T_5529c_level0_row17\" class=\"row_heading level0 row17\" >17</th>\n",
       "      <td id=\"T_5529c_row17_col0\" class=\"data row17 col0\" >0</td>\n",
       "      <td id=\"T_5529c_row17_col1\" class=\"data row17 col1\" >0</td>\n",
       "      <td id=\"T_5529c_row17_col2\" class=\"data row17 col2\" >0</td>\n",
       "      <td id=\"T_5529c_row17_col3\" class=\"data row17 col3\" >0</td>\n",
       "      <td id=\"T_5529c_row17_col4\" class=\"data row17 col4\" >0</td>\n",
       "      <td id=\"T_5529c_row17_col5\" class=\"data row17 col5\" >0</td>\n",
       "      <td id=\"T_5529c_row17_col6\" class=\"data row17 col6\" >0</td>\n",
       "      <td id=\"T_5529c_row17_col7\" class=\"data row17 col7\" >0</td>\n",
       "      <td id=\"T_5529c_row17_col8\" class=\"data row17 col8\" >42</td>\n",
       "      <td id=\"T_5529c_row17_col9\" class=\"data row17 col9\" >150</td>\n",
       "      <td id=\"T_5529c_row17_col10\" class=\"data row17 col10\" >252</td>\n",
       "      <td id=\"T_5529c_row17_col11\" class=\"data row17 col11\" >253</td>\n",
       "      <td id=\"T_5529c_row17_col12\" class=\"data row17 col12\" >253</td>\n",
       "      <td id=\"T_5529c_row17_col13\" class=\"data row17 col13\" >233</td>\n",
       "      <td id=\"T_5529c_row17_col14\" class=\"data row17 col14\" >53</td>\n",
       "      <td id=\"T_5529c_row17_col15\" class=\"data row17 col15\" >0</td>\n",
       "      <td id=\"T_5529c_row17_col16\" class=\"data row17 col16\" >0</td>\n",
       "      <td id=\"T_5529c_row17_col17\" class=\"data row17 col17\" >0</td>\n",
       "    </tr>\n",
       "    <tr>\n",
       "      <th id=\"T_5529c_level0_row18\" class=\"row_heading level0 row18\" >18</th>\n",
       "      <td id=\"T_5529c_row18_col0\" class=\"data row18 col0\" >0</td>\n",
       "      <td id=\"T_5529c_row18_col1\" class=\"data row18 col1\" >0</td>\n",
       "      <td id=\"T_5529c_row18_col2\" class=\"data row18 col2\" >42</td>\n",
       "      <td id=\"T_5529c_row18_col3\" class=\"data row18 col3\" >115</td>\n",
       "      <td id=\"T_5529c_row18_col4\" class=\"data row18 col4\" >42</td>\n",
       "      <td id=\"T_5529c_row18_col5\" class=\"data row18 col5\" >60</td>\n",
       "      <td id=\"T_5529c_row18_col6\" class=\"data row18 col6\" >115</td>\n",
       "      <td id=\"T_5529c_row18_col7\" class=\"data row18 col7\" >159</td>\n",
       "      <td id=\"T_5529c_row18_col8\" class=\"data row18 col8\" >240</td>\n",
       "      <td id=\"T_5529c_row18_col9\" class=\"data row18 col9\" >253</td>\n",
       "      <td id=\"T_5529c_row18_col10\" class=\"data row18 col10\" >253</td>\n",
       "      <td id=\"T_5529c_row18_col11\" class=\"data row18 col11\" >250</td>\n",
       "      <td id=\"T_5529c_row18_col12\" class=\"data row18 col12\" >175</td>\n",
       "      <td id=\"T_5529c_row18_col13\" class=\"data row18 col13\" >25</td>\n",
       "      <td id=\"T_5529c_row18_col14\" class=\"data row18 col14\" >0</td>\n",
       "      <td id=\"T_5529c_row18_col15\" class=\"data row18 col15\" >0</td>\n",
       "      <td id=\"T_5529c_row18_col16\" class=\"data row18 col16\" >0</td>\n",
       "      <td id=\"T_5529c_row18_col17\" class=\"data row18 col17\" >0</td>\n",
       "    </tr>\n",
       "    <tr>\n",
       "      <th id=\"T_5529c_level0_row19\" class=\"row_heading level0 row19\" >19</th>\n",
       "      <td id=\"T_5529c_row19_col0\" class=\"data row19 col0\" >0</td>\n",
       "      <td id=\"T_5529c_row19_col1\" class=\"data row19 col1\" >0</td>\n",
       "      <td id=\"T_5529c_row19_col2\" class=\"data row19 col2\" >187</td>\n",
       "      <td id=\"T_5529c_row19_col3\" class=\"data row19 col3\" >253</td>\n",
       "      <td id=\"T_5529c_row19_col4\" class=\"data row19 col4\" >253</td>\n",
       "      <td id=\"T_5529c_row19_col5\" class=\"data row19 col5\" >253</td>\n",
       "      <td id=\"T_5529c_row19_col6\" class=\"data row19 col6\" >253</td>\n",
       "      <td id=\"T_5529c_row19_col7\" class=\"data row19 col7\" >253</td>\n",
       "      <td id=\"T_5529c_row19_col8\" class=\"data row19 col8\" >253</td>\n",
       "      <td id=\"T_5529c_row19_col9\" class=\"data row19 col9\" >253</td>\n",
       "      <td id=\"T_5529c_row19_col10\" class=\"data row19 col10\" >197</td>\n",
       "      <td id=\"T_5529c_row19_col11\" class=\"data row19 col11\" >86</td>\n",
       "      <td id=\"T_5529c_row19_col12\" class=\"data row19 col12\" >0</td>\n",
       "      <td id=\"T_5529c_row19_col13\" class=\"data row19 col13\" >0</td>\n",
       "      <td id=\"T_5529c_row19_col14\" class=\"data row19 col14\" >0</td>\n",
       "      <td id=\"T_5529c_row19_col15\" class=\"data row19 col15\" >0</td>\n",
       "      <td id=\"T_5529c_row19_col16\" class=\"data row19 col16\" >0</td>\n",
       "      <td id=\"T_5529c_row19_col17\" class=\"data row19 col17\" >0</td>\n",
       "    </tr>\n",
       "    <tr>\n",
       "      <th id=\"T_5529c_level0_row20\" class=\"row_heading level0 row20\" >20</th>\n",
       "      <td id=\"T_5529c_row20_col0\" class=\"data row20 col0\" >0</td>\n",
       "      <td id=\"T_5529c_row20_col1\" class=\"data row20 col1\" >0</td>\n",
       "      <td id=\"T_5529c_row20_col2\" class=\"data row20 col2\" >103</td>\n",
       "      <td id=\"T_5529c_row20_col3\" class=\"data row20 col3\" >253</td>\n",
       "      <td id=\"T_5529c_row20_col4\" class=\"data row20 col4\" >253</td>\n",
       "      <td id=\"T_5529c_row20_col5\" class=\"data row20 col5\" >253</td>\n",
       "      <td id=\"T_5529c_row20_col6\" class=\"data row20 col6\" >253</td>\n",
       "      <td id=\"T_5529c_row20_col7\" class=\"data row20 col7\" >253</td>\n",
       "      <td id=\"T_5529c_row20_col8\" class=\"data row20 col8\" >232</td>\n",
       "      <td id=\"T_5529c_row20_col9\" class=\"data row20 col9\" >67</td>\n",
       "      <td id=\"T_5529c_row20_col10\" class=\"data row20 col10\" >1</td>\n",
       "      <td id=\"T_5529c_row20_col11\" class=\"data row20 col11\" >0</td>\n",
       "      <td id=\"T_5529c_row20_col12\" class=\"data row20 col12\" >0</td>\n",
       "      <td id=\"T_5529c_row20_col13\" class=\"data row20 col13\" >0</td>\n",
       "      <td id=\"T_5529c_row20_col14\" class=\"data row20 col14\" >0</td>\n",
       "      <td id=\"T_5529c_row20_col15\" class=\"data row20 col15\" >0</td>\n",
       "      <td id=\"T_5529c_row20_col16\" class=\"data row20 col16\" >0</td>\n",
       "      <td id=\"T_5529c_row20_col17\" class=\"data row20 col17\" >0</td>\n",
       "    </tr>\n",
       "    <tr>\n",
       "      <th id=\"T_5529c_level0_row21\" class=\"row_heading level0 row21\" >21</th>\n",
       "      <td id=\"T_5529c_row21_col0\" class=\"data row21 col0\" >0</td>\n",
       "      <td id=\"T_5529c_row21_col1\" class=\"data row21 col1\" >0</td>\n",
       "      <td id=\"T_5529c_row21_col2\" class=\"data row21 col2\" >0</td>\n",
       "      <td id=\"T_5529c_row21_col3\" class=\"data row21 col3\" >0</td>\n",
       "      <td id=\"T_5529c_row21_col4\" class=\"data row21 col4\" >0</td>\n",
       "      <td id=\"T_5529c_row21_col5\" class=\"data row21 col5\" >0</td>\n",
       "      <td id=\"T_5529c_row21_col6\" class=\"data row21 col6\" >0</td>\n",
       "      <td id=\"T_5529c_row21_col7\" class=\"data row21 col7\" >0</td>\n",
       "      <td id=\"T_5529c_row21_col8\" class=\"data row21 col8\" >0</td>\n",
       "      <td id=\"T_5529c_row21_col9\" class=\"data row21 col9\" >0</td>\n",
       "      <td id=\"T_5529c_row21_col10\" class=\"data row21 col10\" >0</td>\n",
       "      <td id=\"T_5529c_row21_col11\" class=\"data row21 col11\" >0</td>\n",
       "      <td id=\"T_5529c_row21_col12\" class=\"data row21 col12\" >0</td>\n",
       "      <td id=\"T_5529c_row21_col13\" class=\"data row21 col13\" >0</td>\n",
       "      <td id=\"T_5529c_row21_col14\" class=\"data row21 col14\" >0</td>\n",
       "      <td id=\"T_5529c_row21_col15\" class=\"data row21 col15\" >0</td>\n",
       "      <td id=\"T_5529c_row21_col16\" class=\"data row21 col16\" >0</td>\n",
       "      <td id=\"T_5529c_row21_col17\" class=\"data row21 col17\" >0</td>\n",
       "    </tr>\n",
       "    <tr>\n",
       "      <th id=\"T_5529c_level0_row22\" class=\"row_heading level0 row22\" >22</th>\n",
       "      <td id=\"T_5529c_row22_col0\" class=\"data row22 col0\" >0</td>\n",
       "      <td id=\"T_5529c_row22_col1\" class=\"data row22 col1\" >0</td>\n",
       "      <td id=\"T_5529c_row22_col2\" class=\"data row22 col2\" >0</td>\n",
       "      <td id=\"T_5529c_row22_col3\" class=\"data row22 col3\" >0</td>\n",
       "      <td id=\"T_5529c_row22_col4\" class=\"data row22 col4\" >0</td>\n",
       "      <td id=\"T_5529c_row22_col5\" class=\"data row22 col5\" >0</td>\n",
       "      <td id=\"T_5529c_row22_col6\" class=\"data row22 col6\" >0</td>\n",
       "      <td id=\"T_5529c_row22_col7\" class=\"data row22 col7\" >0</td>\n",
       "      <td id=\"T_5529c_row22_col8\" class=\"data row22 col8\" >0</td>\n",
       "      <td id=\"T_5529c_row22_col9\" class=\"data row22 col9\" >0</td>\n",
       "      <td id=\"T_5529c_row22_col10\" class=\"data row22 col10\" >0</td>\n",
       "      <td id=\"T_5529c_row22_col11\" class=\"data row22 col11\" >0</td>\n",
       "      <td id=\"T_5529c_row22_col12\" class=\"data row22 col12\" >0</td>\n",
       "      <td id=\"T_5529c_row22_col13\" class=\"data row22 col13\" >0</td>\n",
       "      <td id=\"T_5529c_row22_col14\" class=\"data row22 col14\" >0</td>\n",
       "      <td id=\"T_5529c_row22_col15\" class=\"data row22 col15\" >0</td>\n",
       "      <td id=\"T_5529c_row22_col16\" class=\"data row22 col16\" >0</td>\n",
       "      <td id=\"T_5529c_row22_col17\" class=\"data row22 col17\" >0</td>\n",
       "    </tr>\n",
       "    <tr>\n",
       "      <th id=\"T_5529c_level0_row23\" class=\"row_heading level0 row23\" >23</th>\n",
       "      <td id=\"T_5529c_row23_col0\" class=\"data row23 col0\" >0</td>\n",
       "      <td id=\"T_5529c_row23_col1\" class=\"data row23 col1\" >0</td>\n",
       "      <td id=\"T_5529c_row23_col2\" class=\"data row23 col2\" >0</td>\n",
       "      <td id=\"T_5529c_row23_col3\" class=\"data row23 col3\" >0</td>\n",
       "      <td id=\"T_5529c_row23_col4\" class=\"data row23 col4\" >0</td>\n",
       "      <td id=\"T_5529c_row23_col5\" class=\"data row23 col5\" >0</td>\n",
       "      <td id=\"T_5529c_row23_col6\" class=\"data row23 col6\" >0</td>\n",
       "      <td id=\"T_5529c_row23_col7\" class=\"data row23 col7\" >0</td>\n",
       "      <td id=\"T_5529c_row23_col8\" class=\"data row23 col8\" >0</td>\n",
       "      <td id=\"T_5529c_row23_col9\" class=\"data row23 col9\" >0</td>\n",
       "      <td id=\"T_5529c_row23_col10\" class=\"data row23 col10\" >0</td>\n",
       "      <td id=\"T_5529c_row23_col11\" class=\"data row23 col11\" >0</td>\n",
       "      <td id=\"T_5529c_row23_col12\" class=\"data row23 col12\" >0</td>\n",
       "      <td id=\"T_5529c_row23_col13\" class=\"data row23 col13\" >0</td>\n",
       "      <td id=\"T_5529c_row23_col14\" class=\"data row23 col14\" >0</td>\n",
       "      <td id=\"T_5529c_row23_col15\" class=\"data row23 col15\" >0</td>\n",
       "      <td id=\"T_5529c_row23_col16\" class=\"data row23 col16\" >0</td>\n",
       "      <td id=\"T_5529c_row23_col17\" class=\"data row23 col17\" >0</td>\n",
       "    </tr>\n",
       "  </tbody>\n",
       "</table>\n"
      ],
      "text/plain": [
       "<pandas.io.formats.style.Styler at 0x7f68848a7390>"
      ]
     },
     "execution_count": 337,
     "metadata": {},
     "output_type": "execute_result"
    }
   ],
   "source": [
    "img3_t=tensor(img3)\n",
    "df=pd.DataFrame(img3_t[4:30,4:22])\n",
    "df.style.set_properties(**{'font-size':'6pt'}).background_gradient('Greys')"
   ]
  },
  {
   "cell_type": "code",
   "execution_count": 338,
   "metadata": {},
   "outputs": [
    {
     "name": "stdout",
     "output_type": "stream",
     "text": [
      "28 28\n"
     ]
    }
   ],
   "source": [
    "width,height=img3.size\n",
    "print(width,height)"
   ]
  },
  {
   "cell_type": "code",
   "execution_count": 339,
   "metadata": {},
   "outputs": [
    {
     "name": "stdout",
     "output_type": "stream",
     "text": [
      "6131 6265\n"
     ]
    }
   ],
   "source": [
    "three_tensors=[tensor(Image.open(o)) for o in threes]\n",
    "seven_tensors=[tensor(Image.open(o)) for o in sevens]\n",
    "print(len(three_tensors),len(seven_tensors))"
   ]
  },
  {
   "cell_type": "code",
   "execution_count": 340,
   "metadata": {},
   "outputs": [
    {
     "data": {
      "image/png": "[encoded data removed]",
      "text/plain": [
       "<PIL.PngImagePlugin.PngImageFile image mode=L size=28x28>"
      ]
     },
     "execution_count": 340,
     "metadata": {},
     "output_type": "execute_result"
    }
   ],
   "source": [
    "Image.open(threes[1])\n",
    "\n"
   ]
  },
  {
   "cell_type": "code",
   "execution_count": 341,
   "metadata": {},
   "outputs": [
    {
     "data": {
      "image/png": "[encoded data removed]",
      "text/plain": [
       "<Figure size 100x100 with 1 Axes>"
      ]
     },
     "metadata": {},
     "output_type": "display_data"
    }
   ],
   "source": [
    "#as the Images stored in tensor open three_tensors using show_image\n",
    "\n",
    "show_image(three_tensors[1]);"
   ]
  },
  {
   "cell_type": "code",
   "execution_count": 342,
   "metadata": {},
   "outputs": [
    {
     "data": {
      "text/plain": [
       "(torch.Size([6131, 28, 28]), torch.Size([6265, 28, 28]))"
      ]
     },
     "execution_count": 342,
     "metadata": {},
     "output_type": "execute_result"
    }
   ],
   "source": [
    "#stacked seven_tesnors using  \n",
    "\n",
    "stacked_sevens = torch.stack(seven_tensors).float()/255\n",
    "stacked_threes = torch.stack(three_tensors).float()/255\n",
    "stacked_threes.shape, stacked_sevens.shape"
   ]
  },
  {
   "cell_type": "code",
   "execution_count": 343,
   "metadata": {},
   "outputs": [
    {
     "data": {
      "text/plain": [
       "3"
      ]
     },
     "execution_count": 343,
     "metadata": {},
     "output_type": "execute_result"
    }
   ],
   "source": [
    "# going to find length of stacked_threes   \n",
    "len(stacked_sevens.shape)"
   ]
  },
  {
   "cell_type": "code",
   "execution_count": 344,
   "metadata": {},
   "outputs": [
    {
     "data": {
      "text/plain": [
       "3"
      ]
     },
     "execution_count": 344,
     "metadata": {},
     "output_type": "execute_result"
    }
   ],
   "source": [
    "stacked_threes.ndim"
   ]
  },
  {
   "cell_type": "code",
   "execution_count": 345,
   "metadata": {},
   "outputs": [
    {
     "data": {
      "text/plain": [
       "<Axes: >"
      ]
     },
     "execution_count": 345,
     "metadata": {},
     "output_type": "execute_result"
    },
    {
     "data": {
      "image/png": "[encoded data removed]",
      "text/plain": [
       "<Figure size 100x100 with 1 Axes>"
      ]
     },
     "metadata": {},
     "output_type": "display_data"
    }
   ],
   "source": [
    "mean3=stacked_threes.mean(axis=0)\n",
    "show_image(mean3)"
   ]
  },
  {
   "cell_type": "code",
   "execution_count": 346,
   "metadata": {},
   "outputs": [
    {
     "data": {
      "text/plain": [
       "<Axes: >"
      ]
     },
     "execution_count": 346,
     "metadata": {},
     "output_type": "execute_result"
    },
    {
     "data": {
      "image/png": "[encoded data removed]",
      "text/plain": [
       "<Figure size 100x100 with 1 Axes>"
      ]
     },
     "metadata": {},
     "output_type": "display_data"
    }
   ],
   "source": [
    "mean7=stacked_sevens.mean(axis=0)\n",
    "show_image(mean7)"
   ]
  },
  {
   "cell_type": "code",
   "execution_count": 347,
   "metadata": {},
   "outputs": [
    {
     "data": {
      "text/plain": [
       "<Axes: >"
      ]
     },
     "execution_count": 347,
     "metadata": {},
     "output_type": "execute_result"
    },
    {
     "data": {
      "image/png": "[encoded data removed]",
      "text/plain": [
       "<Figure size 100x100 with 1 Axes>"
      ]
     },
     "metadata": {},
     "output_type": "display_data"
    }
   ],
   "source": [
    "a_3=stacked_threes[1]\n",
    "show_image(a_3)"
   ]
  },
  {
   "cell_type": "code",
   "execution_count": 348,
   "metadata": {},
   "outputs": [
    {
     "data": {
      "text/plain": [
       "(tensor(0.2021), tensor(0.1114))"
      ]
     },
     "execution_count": 348,
     "metadata": {},
     "output_type": "execute_result"
    }
   ],
   "source": [
    "dist_3_abs=abs(a_3-mean3).mean()\n",
    "dist_3_sqrt=((a_3-mean3)**2).mean().sqrt()\n",
    "dist_3_sqrt, dist_3_abs"
   ]
  },
  {
   "cell_type": "code",
   "execution_count": 349,
   "metadata": {},
   "outputs": [
    {
     "data": {
      "text/plain": [
       "<Axes: >"
      ]
     },
     "execution_count": 349,
     "metadata": {},
     "output_type": "execute_result"
    },
    {
     "data": {
      "image/png": "[encoded data removed]",
      "text/plain": [
       "<Figure size 100x100 with 1 Axes>"
      ]
     },
     "metadata": {},
     "output_type": "display_data"
    }
   ],
   "source": [
    "a_7=stacked_sevens[1]\n",
    "show_image(a_7)"
   ]
  },
  {
   "cell_type": "code",
   "execution_count": 350,
   "metadata": {},
   "outputs": [
    {
     "data": {
      "text/plain": [
       "(tensor(0.2585), tensor(0.1304))"
      ]
     },
     "execution_count": 350,
     "metadata": {},
     "output_type": "execute_result"
    }
   ],
   "source": [
    "dist_7_abs=(a_7-mean7).abs().mean()\n",
    "dist_7_sqrt=((a_7-mean7)**2).mean().sqrt()\n",
    "dist_7_sqrt,dist_7_abs"
   ]
  },
  {
   "cell_type": "code",
   "execution_count": 351,
   "metadata": {},
   "outputs": [
    {
     "data": {
      "text/plain": [
       "(tensor(0.1586), tensor(0.3021))"
      ]
     },
     "execution_count": 351,
     "metadata": {},
     "output_type": "execute_result"
    }
   ],
   "source": [
    "dis=(a_3-mean7).abs().mean()\n",
    "dist=((a_3-mean7)**2).abs().mean().sqrt()\n",
    "dis, dist"
   ]
  },
  {
   "cell_type": "code",
   "execution_count": 352,
   "metadata": {},
   "outputs": [],
   "source": [
    "data= [[1,2,3],[4,5,6]]\n",
    "arr=array(data)\n",
    "tns=tensor(arr)\n",
    "\n"
   ]
  },
  {
   "cell_type": "code",
   "execution_count": 353,
   "metadata": {},
   "outputs": [
    {
     "data": {
      "text/plain": [
       "array([[1, 2, 3],\n",
       "       [4, 5, 6]])"
      ]
     },
     "execution_count": 353,
     "metadata": {},
     "output_type": "execute_result"
    }
   ],
   "source": [
    "arr"
   ]
  },
  {
   "cell_type": "code",
   "execution_count": 354,
   "metadata": {},
   "outputs": [
    {
     "data": {
      "text/plain": [
       "tensor([[1, 2, 3],\n",
       "        [4, 5, 6]])"
      ]
     },
     "execution_count": 354,
     "metadata": {},
     "output_type": "execute_result"
    }
   ],
   "source": [
    "tns"
   ]
  },
  {
   "cell_type": "code",
   "execution_count": 355,
   "metadata": {},
   "outputs": [
    {
     "data": {
      "text/plain": [
       "(tensor([1, 2, 3]), tensor([4, 5, 6]))"
      ]
     },
     "execution_count": 355,
     "metadata": {},
     "output_type": "execute_result"
    }
   ],
   "source": [
    "tns[0],tns[1]"
   ]
  },
  {
   "cell_type": "code",
   "execution_count": 356,
   "metadata": {},
   "outputs": [
    {
     "data": {
      "text/plain": [
       "(tensor([1, 4]), tensor([2, 5]), tensor([3, 6]))"
      ]
     },
     "execution_count": 356,
     "metadata": {},
     "output_type": "execute_result"
    }
   ],
   "source": [
    "tns[:,0],tns[:,1],tns[:,2]"
   ]
  },
  {
   "cell_type": "code",
   "execution_count": 357,
   "metadata": {},
   "outputs": [
    {
     "data": {
      "text/plain": [
       "(tensor([2, 3]), tensor([5, 6]))"
      ]
     },
     "execution_count": 357,
     "metadata": {},
     "output_type": "execute_result"
    }
   ],
   "source": [
    "tns[0,1:3],tns[1,1:3]"
   ]
  },
  {
   "cell_type": "code",
   "execution_count": 358,
   "metadata": {},
   "outputs": [
    {
     "data": {
      "text/plain": [
       "tensor([[2, 3, 4],\n",
       "        [5, 6, 7]])"
      ]
     },
     "execution_count": 358,
     "metadata": {},
     "output_type": "execute_result"
    }
   ],
   "source": [
    "tns+1\n"
   ]
  },
  {
   "cell_type": "code",
   "execution_count": 359,
   "metadata": {},
   "outputs": [
    {
     "data": {
      "text/plain": [
       "'torch.LongTensor'"
      ]
     },
     "execution_count": 359,
     "metadata": {},
     "output_type": "execute_result"
    }
   ],
   "source": [
    "tns.type()"
   ]
  },
  {
   "cell_type": "code",
   "execution_count": 360,
   "metadata": {},
   "outputs": [
    {
     "data": {
      "text/plain": [
       "tensor([[1.5000, 3.0000, 4.5000],\n",
       "        [6.0000, 7.5000, 9.0000]])"
      ]
     },
     "execution_count": 360,
     "metadata": {},
     "output_type": "execute_result"
    }
   ],
   "source": [
    "tns*1.5"
   ]
  },
  {
   "cell_type": "code",
   "execution_count": 361,
   "metadata": {},
   "outputs": [
    {
     "data": {
      "text/plain": [
       "'torch.FloatTensor'"
      ]
     },
     "execution_count": 361,
     "metadata": {},
     "output_type": "execute_result"
    }
   ],
   "source": [
    "(tns*1.5).type()"
   ]
  },
  {
   "cell_type": "code",
   "execution_count": 362,
   "metadata": {},
   "outputs": [],
   "source": [
    "valid_3_tens=torch.stack([tensor(Image.open(o)) for o in (path/'valid'/'3').ls()])\n",
    "valid_3_tens=valid_3_tens.float()/255\n"
   ]
  },
  {
   "cell_type": "code",
   "execution_count": 363,
   "metadata": {},
   "outputs": [
    {
     "data": {
      "text/plain": [
       "(torch.Size([1010, 28, 28]), torch.Size([1028, 28, 28]))"
      ]
     },
     "execution_count": 363,
     "metadata": {},
     "output_type": "execute_result"
    }
   ],
   "source": [
    "valid_7_tens = torch.stack([tensor(Image.open(o)) for o in (path/'valid'/'7').ls()])\n",
    "valid_7_tens = valid_7_tens.float()/255\n",
    "valid_3_tens.shape,valid_7_tens.shape"
   ]
  },
  {
   "cell_type": "code",
   "execution_count": 364,
   "metadata": {},
   "outputs": [
    {
     "data": {
      "text/plain": [
       "tensor(0.1114)"
      ]
     },
     "execution_count": 364,
     "metadata": {},
     "output_type": "execute_result"
    }
   ],
   "source": [
    "def mnist_distance(a,b):\n",
    "    return (a-b).abs().mean((-1,-2))\n",
    "mnist_distance(a_3,mean3)\n"
   ]
  },
  {
   "cell_type": "code",
   "execution_count": 365,
   "metadata": {},
   "outputs": [
    {
     "data": {
      "text/plain": [
       "torch.Size([28, 28])"
      ]
     },
     "execution_count": 365,
     "metadata": {},
     "output_type": "execute_result"
    }
   ],
   "source": [
    "mean3.shape"
   ]
  },
  {
   "cell_type": "code",
   "execution_count": 366,
   "metadata": {},
   "outputs": [
    {
     "data": {
      "text/plain": [
       "(tensor([0.1198, 0.1165, 0.1141,  ..., 0.1591, 0.1210, 0.1465]),\n",
       " torch.Size([1010]))"
      ]
     },
     "execution_count": 366,
     "metadata": {},
     "output_type": "execute_result"
    }
   ],
   "source": [
    "valid_3_dist=mnist_distance(valid_3_tens,mean3)\n",
    "valid_3_dist,valid_3_dist.shape"
   ]
  },
  {
   "cell_type": "markdown",
   "metadata": {},
   "source": [
    "Broadcasting in pytorch. Automatic expansion of smaller rank tensor to same size of larger rank while performing operations on tensor"
   ]
  },
  {
   "cell_type": "code",
   "execution_count": 367,
   "metadata": {},
   "outputs": [
    {
     "data": {
      "text/plain": [
       "tensor([2, 3, 4])"
      ]
     },
     "execution_count": 367,
     "metadata": {},
     "output_type": "execute_result"
    }
   ],
   "source": [
    "tensor([1,2,3])+tensor([1])"
   ]
  },
  {
   "cell_type": "code",
   "execution_count": 368,
   "metadata": {},
   "outputs": [
    {
     "data": {
      "text/plain": [
       "torch.Size([1010, 28, 28])"
      ]
     },
     "execution_count": 368,
     "metadata": {},
     "output_type": "execute_result"
    }
   ],
   "source": [
    "(valid_3_tens-mean3).shape"
   ]
  },
  {
   "cell_type": "code",
   "execution_count": 369,
   "metadata": {},
   "outputs": [],
   "source": [
    "def is_3(x):\n",
    "    return mnist_distance(x,mean3)<mnist_distance(x,mean7)\n"
   ]
  },
  {
   "cell_type": "code",
   "execution_count": null,
   "metadata": {},
   "outputs": [],
   "source": []
  },
  {
   "cell_type": "code",
   "execution_count": 370,
   "metadata": {},
   "outputs": [
    {
     "data": {
      "text/plain": [
       "(tensor(True), tensor(1.))"
      ]
     },
     "execution_count": 370,
     "metadata": {},
     "output_type": "execute_result"
    }
   ],
   "source": [
    "is_3(a_3),is_3(a_3).float()"
   ]
  },
  {
   "cell_type": "code",
   "execution_count": 371,
   "metadata": {},
   "outputs": [
    {
     "data": {
      "text/plain": [
       "tensor([True, True, True,  ..., True, True, True])"
      ]
     },
     "execution_count": 371,
     "metadata": {},
     "output_type": "execute_result"
    }
   ],
   "source": [
    "is_3(valid_3_tens)"
   ]
  },
  {
   "cell_type": "code",
   "execution_count": 372,
   "metadata": {},
   "outputs": [
    {
     "data": {
      "text/plain": [
       "(tensor(0.9168), tensor(0.9854), tensor(0.9511))"
      ]
     },
     "execution_count": 372,
     "metadata": {},
     "output_type": "execute_result"
    }
   ],
   "source": [
    "accuracy_3s= is_3(valid_3_tens).float().mean()\n",
    "accuracy_7s= 1-is_3(valid_7_tens).float().mean()\n",
    "accuracy_3s,accuracy_7s,(accuracy_3s+accuracy_7s)/2"
   ]
  },
  {
   "cell_type": "code",
   "execution_count": 373,
   "metadata": {},
   "outputs": [
    {
     "data": {
      "image/png": "[encoded data removed]",
      "text/plain": [
       "<Figure size 600x400 with 1 Axes>"
      ]
     },
     "metadata": {},
     "output_type": "display_data"
    }
   ],
   "source": [
    "import fastbook\n",
    "from fastbook import *\n",
    "def f(x):\n",
    "    return x**2\n",
    "\n",
    "plot_function(f,'x','x**2')"
   ]
  },
  {
   "cell_type": "code",
   "execution_count": 374,
   "metadata": {},
   "outputs": [
    {
     "data": {
      "image/png": "[encoded data removed]",
      "text/plain": [
       "<Figure size 600x400 with 1 Axes>"
      ]
     },
     "metadata": {},
     "output_type": "display_data"
    }
   ],
   "source": [
    "plot_function(f, 'x', 'x**2')\n",
    "plt.scatter(-1.5, f(-1.5), color='red');"
   ]
  },
  {
   "cell_type": "code",
   "execution_count": 375,
   "metadata": {},
   "outputs": [],
   "source": [
    "xt=tensor(3.).requires_grad_()"
   ]
  },
  {
   "cell_type": "code",
   "execution_count": 376,
   "metadata": {},
   "outputs": [
    {
     "data": {
      "text/plain": [
       "tensor(9., grad_fn=<PowBackward0>)"
      ]
     },
     "execution_count": 376,
     "metadata": {},
     "output_type": "execute_result"
    }
   ],
   "source": [
    "yt=f(xt)\n",
    "yt"
   ]
  },
  {
   "cell_type": "code",
   "execution_count": 377,
   "metadata": {},
   "outputs": [],
   "source": [
    "yt.backward()"
   ]
  },
  {
   "cell_type": "code",
   "execution_count": 378,
   "metadata": {},
   "outputs": [
    {
     "data": {
      "text/plain": [
       "tensor(6.)"
      ]
     },
     "execution_count": 378,
     "metadata": {},
     "output_type": "execute_result"
    }
   ],
   "source": [
    "xt.grad"
   ]
  },
  {
   "cell_type": "code",
   "execution_count": 379,
   "metadata": {},
   "outputs": [],
   "source": [
    "# x=tensor(2.).requires_grad_()\n",
    "# b=f(x)"
   ]
  },
  {
   "cell_type": "code",
   "execution_count": 380,
   "metadata": {},
   "outputs": [],
   "source": [
    "# b.backward()\n",
    "# x.grad"
   ]
  },
  {
   "cell_type": "code",
   "execution_count": 381,
   "metadata": {},
   "outputs": [
    {
     "data": {
      "text/plain": [
       "tensor([ 3.,  4., 10.], requires_grad=True)"
      ]
     },
     "execution_count": 381,
     "metadata": {},
     "output_type": "execute_result"
    }
   ],
   "source": [
    "xt=tensor([3.,4.,10.]).requires_grad_()\n",
    "xt"
   ]
  },
  {
   "cell_type": "code",
   "execution_count": 382,
   "metadata": {},
   "outputs": [
    {
     "data": {
      "text/plain": [
       "tensor(125., grad_fn=<SumBackward0>)"
      ]
     },
     "execution_count": 382,
     "metadata": {},
     "output_type": "execute_result"
    }
   ],
   "source": [
    "def f(x):\n",
    "    return (x**2).sum()\n",
    "yt=f(xt)\n",
    "yt"
   ]
  },
  {
   "cell_type": "code",
   "execution_count": 383,
   "metadata": {},
   "outputs": [
    {
     "data": {
      "text/plain": [
       "tensor([ 6.,  8., 20.])"
      ]
     },
     "execution_count": 383,
     "metadata": {},
     "output_type": "execute_result"
    }
   ],
   "source": [
    "yt.backward()\n",
    "xt.grad"
   ]
  },
  {
   "cell_type": "code",
   "execution_count": 384,
   "metadata": {},
   "outputs": [
    {
     "data": {
      "text/plain": [
       "tensor([ 0.,  1.,  2.,  3.,  4.,  5.,  6.,  7.,  8.,  9., 10., 11., 12., 13., 14., 15., 16., 17., 18., 19.])"
      ]
     },
     "execution_count": 384,
     "metadata": {},
     "output_type": "execute_result"
    }
   ],
   "source": [
    "time=torch.arange(0,20).float();time"
   ]
  },
  {
   "cell_type": "code",
   "execution_count": 402,
   "metadata": {},
   "outputs": [
    {
     "data": {
      "image/png": "[encoded data removed]",
      "text/plain": [
       "<Figure size 640x480 with 1 Axes>"
      ]
     },
     "metadata": {},
     "output_type": "display_data"
    }
   ],
   "source": [
    "speed=torch.randn(20)*3+0.75*(time-9.5)**2+1\n",
    "plt.scatter(time,speed);"
   ]
  },
  {
   "cell_type": "code",
   "execution_count": 386,
   "metadata": {},
   "outputs": [],
   "source": [
    "def f(t,params):\n",
    "    a,b,c=params\n",
    "    return a*(t**2) + (b*t) + c"
   ]
  },
  {
   "cell_type": "code",
   "execution_count": 387,
   "metadata": {},
   "outputs": [],
   "source": [
    "def mse(preds, targets): return ((preds-targets)**2).mean()"
   ]
  },
  {
   "cell_type": "code",
   "execution_count": 415,
   "metadata": {},
   "outputs": [
    {
     "data": {
      "text/plain": [
       "tensor([1.0064, 0.9555, 0.3920], requires_grad=True)"
      ]
     },
     "execution_count": 415,
     "metadata": {},
     "output_type": "execute_result"
    }
   ],
   "source": [
    "params=torch.randn(3).requires_grad_()\n",
    "params"
   ]
  },
  {
   "cell_type": "code",
   "execution_count": 389,
   "metadata": {},
   "outputs": [],
   "source": [
    "preds=f(time,params)"
   ]
  },
  {
   "cell_type": "code",
   "execution_count": 390,
   "metadata": {},
   "outputs": [],
   "source": [
    "def show_preds(preds,ax= None):\n",
    "    if ax is None:ax=plt.subplots()[1]\n",
    "    ax.scatter(time,speed)\n",
    "    ax.scatter(time,to_np(preds),color='red')\n",
    "    ax.set_ylim(-300,100)\n"
   ]
  },
  {
   "cell_type": "code",
   "execution_count": 391,
   "metadata": {},
   "outputs": [
    {
     "data": {
      "image/png": "[encoded data removed]",
      "text/plain": [
       "<Figure size 640x480 with 1 Axes>"
      ]
     },
     "metadata": {},
     "output_type": "display_data"
    }
   ],
   "source": [
    "show_preds(preds)"
   ]
  },
  {
   "cell_type": "code",
   "execution_count": 392,
   "metadata": {},
   "outputs": [
    {
     "data": {
      "text/plain": [
       "tensor(46943.7500, grad_fn=<MeanBackward0>)"
      ]
     },
     "execution_count": 392,
     "metadata": {},
     "output_type": "execute_result"
    }
   ],
   "source": [
    "loss=mse(preds,speed)\n",
    "loss"
   ]
  },
  {
   "cell_type": "code",
   "execution_count": 393,
   "metadata": {},
   "outputs": [
    {
     "data": {
      "text/plain": [
       "tensor([-72166.2891,  -4609.0605,   -331.1024])"
      ]
     },
     "execution_count": 393,
     "metadata": {},
     "output_type": "execute_result"
    }
   ],
   "source": [
    "loss.backward()\n",
    "params.grad"
   ]
  },
  {
   "cell_type": "code",
   "execution_count": 394,
   "metadata": {},
   "outputs": [
    {
     "data": {
      "text/plain": [
       "tensor([-0.7217, -0.0461, -0.0033])"
      ]
     },
     "execution_count": 394,
     "metadata": {},
     "output_type": "execute_result"
    }
   ],
   "source": [
    "params.grad*1e-5"
   ]
  },
  {
   "cell_type": "code",
   "execution_count": 395,
   "metadata": {},
   "outputs": [
    {
     "data": {
      "text/plain": [
       "tensor([-1.1929,  0.4821,  2.5151], requires_grad=True)"
      ]
     },
     "execution_count": 395,
     "metadata": {},
     "output_type": "execute_result"
    }
   ],
   "source": [
    "params"
   ]
  },
  {
   "cell_type": "code",
   "execution_count": 396,
   "metadata": {},
   "outputs": [],
   "source": [
    "lr=1e-5\n",
    "params.data-= lr * params.grad.data\n",
    "params.grad= None"
   ]
  },
  {
   "cell_type": "code",
   "execution_count": 397,
   "metadata": {},
   "outputs": [
    {
     "data": {
      "text/plain": [
       "tensor(9423.1621, grad_fn=<MeanBackward0>)"
      ]
     },
     "execution_count": 397,
     "metadata": {},
     "output_type": "execute_result"
    }
   ],
   "source": [
    "preds=f(time,params)\n",
    "mse(preds,speed)"
   ]
  },
  {
   "cell_type": "code",
   "execution_count": 398,
   "metadata": {},
   "outputs": [
    {
     "data": {
      "image/png": "[encoded data removed]",
      "text/plain": [
       "<Figure size 640x480 with 1 Axes>"
      ]
     },
     "metadata": {},
     "output_type": "display_data"
    }
   ],
   "source": [
    "show_preds(preds)"
   ]
  },
  {
   "cell_type": "code",
   "execution_count": 399,
   "metadata": {},
   "outputs": [],
   "source": [
    "def apply_step(params,prn=True):\n",
    "    preds=f(time,params)\n",
    "    loss=mse(preds,speed)\n",
    "    loss.backward()\n",
    "    params.data-=lr*params.grad.data\n",
    "    params.grad=None\n",
    "    if prn: print(loss.item())\n",
    "    return preds"
   ]
  },
  {
   "cell_type": "code",
   "execution_count": 400,
   "metadata": {},
   "outputs": [
    {
     "name": "stdout",
     "output_type": "stream",
     "text": [
      "9423.162109375\n",
      "2323.10986328125\n",
      "979.5579223632812\n",
      "725.3109741210938\n",
      "677.1942138671875\n",
      "668.0833740234375\n",
      "666.3536376953125\n",
      "666.0206909179688\n",
      "665.9520263671875\n",
      "665.9334716796875\n"
     ]
    }
   ],
   "source": [
    "for i in range(10): apply_step(params)"
   ]
  },
  {
   "cell_type": "code",
   "execution_count": 401,
   "metadata": {},
   "outputs": [
    {
     "data": {
      "image/png": "[encoded data removed]",
      "text/plain": [
       "<Figure size 1200x300 with 4 Axes>"
      ]
     },
     "metadata": {},
     "output_type": "display_data"
    }
   ],
   "source": [
    "_,axs = plt.subplots(1,4,figsize=(12,3))\n",
    "for ax in axs: show_preds(apply_step(params, False), ax)\n",
    "plt.tight_layout()"
   ]
  },
  {
   "cell_type": "code",
   "execution_count": 403,
   "metadata": {},
   "outputs": [],
   "source": [
    "train_x=torch.cat([stacked_threes,stacked_sevens]).view(-1,28*28)\n"
   ]
  },
  {
   "cell_type": "code",
   "execution_count": 405,
   "metadata": {},
   "outputs": [
    {
     "data": {
      "text/plain": [
       "(torch.Size([12396, 784]), torch.Size([12396, 1]))"
      ]
     },
     "execution_count": 405,
     "metadata": {},
     "output_type": "execute_result"
    }
   ],
   "source": [
    "train_y=tensor([1]*len(threes)+[0]*len(sevens)).unsqueeze(1)\n",
    "train_x.shape,train_y.shape\n"
   ]
  },
  {
   "cell_type": "code",
   "execution_count": 406,
   "metadata": {},
   "outputs": [
    {
     "data": {
      "text/plain": [
       "(torch.Size([784]), tensor([1]))"
      ]
     },
     "execution_count": 406,
     "metadata": {},
     "output_type": "execute_result"
    }
   ],
   "source": [
    "dset=list(zip(train_x,train_y))\n",
    "x,y=dset[0]\n",
    "x.shape,y"
   ]
  },
  {
   "cell_type": "code",
   "execution_count": 409,
   "metadata": {},
   "outputs": [],
   "source": [
    "valid_x=torch.cat([valid_3_tens,valid_7_tens]).view(-1,28*28)\n",
    "valid_y=tensor([1]*len(valid_3_tens)+[0]*len(valid_7_tens)).unsqueeze(1)\n",
    "valid_dset=list(zip(valid_x,valid_y))"
   ]
  },
  {
   "cell_type": "code",
   "execution_count": 410,
   "metadata": {},
   "outputs": [],
   "source": [
    "def init_params(size,std=1.0):\n",
    "    return (torch.randn(size)*std).requires_grad_()\n",
    "    \n"
   ]
  },
  {
   "cell_type": "code",
   "execution_count": 411,
   "metadata": {},
   "outputs": [],
   "source": [
    "weights=init_params((28*28,1))"
   ]
  },
  {
   "cell_type": "code",
   "execution_count": 413,
   "metadata": {},
   "outputs": [],
   "source": [
    "bias=init_params(1)"
   ]
  },
  {
   "cell_type": "code",
   "execution_count": 414,
   "metadata": {},
   "outputs": [
    {
     "data": {
      "text/plain": [
       "tensor([-0.2362], grad_fn=<AddBackward0>)"
      ]
     },
     "execution_count": 414,
     "metadata": {},
     "output_type": "execute_result"
    }
   ],
   "source": [
    "(train_x[0]* weights.T).sum()+bias"
   ]
  }
 ],
 "metadata": {
  "kernelspec": {
   "display_name": "Python 3 (ipykernel)",
   "language": "python",
   "name": "python3"
  },
  "language_info": {
   "codemirror_mode": {
    "name": "ipython",
    "version": 3
   },
   "file_extension": ".py",
   "mimetype": "text/x-python",
   "name": "python",
   "nbconvert_exporter": "python",
   "pygments_lexer": "ipython3",
   "version": "3.11.4"
  }
 },
 "nbformat": 4,
 "nbformat_minor": 4
}
